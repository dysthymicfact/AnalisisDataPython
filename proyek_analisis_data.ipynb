{
  "cells": [
    {
      "cell_type": "markdown",
      "metadata": {
        "id": "H9wADwK78DCz"
      },
      "source": [
        "# Proyek Analisis Data: [Bike Sharing Dataset]\n",
        "- **Nama:** [Dewi Rachmawati]\n",
        "- **Email:** [rchmw.dewi10@gmail.com]\n",
        "- **ID Dicoding:** [iam_dewir]"
      ]
    },
    {
      "cell_type": "markdown",
      "metadata": {
        "id": "eE0raob58DC0"
      },
      "source": [
        "## Menentukan Pertanyaan Bisnis"
      ]
    },
    {
      "cell_type": "markdown",
      "metadata": {
        "id": "GmQeQ5YF8DC0"
      },
      "source": [
        "- Pertanyaan 1: Bagaimana kondisi cuaca mempengaruhi jumlah penyewaan sepeda?\n",
        "- Pertanyaan 2: Bagaimana perbedaan penyewaan sepeda pada weekend dibandingkan weekday?"
      ]
    },
    {
      "cell_type": "markdown",
      "metadata": {
        "id": "H-z4QGlO8DC1"
      },
      "source": [
        "## Import Semua Packages/Library yang Digunakan"
      ]
    },
    {
      "cell_type": "code",
      "execution_count": null,
      "metadata": {
        "id": "FVYwaObI8DC1"
      },
      "outputs": [],
      "source": [
        "import numpy as np\n",
        "import pandas as pd\n",
        "import matplotlib.pyplot as plt\n",
        "import seaborn as sns\n",
        "from datetime import datetime\n",
        "from pandas.api.types import CategoricalDtype"
      ]
    },
    {
      "cell_type": "markdown",
      "metadata": {
        "id": "h_Sh51Xy8DC1"
      },
      "source": [
        "## Data Wrangling"
      ]
    },
    {
      "cell_type": "markdown",
      "metadata": {
        "id": "sXU2GBYu8DC1"
      },
      "source": [
        "### Gathering Data"
      ]
    },
    {
      "cell_type": "markdown",
      "metadata": {},
      "source": [
        "1. Memuat Tabel Day menjadi sebuah DataFrame"
      ]
    },
    {
      "cell_type": "code",
      "execution_count": 160,
      "metadata": {
        "id": "zjCBk1BI8DC1"
      },
      "outputs": [
        {
          "data": {
            "text/html": [
              "<div>\n",
              "<style scoped>\n",
              "    .dataframe tbody tr th:only-of-type {\n",
              "        vertical-align: middle;\n",
              "    }\n",
              "\n",
              "    .dataframe tbody tr th {\n",
              "        vertical-align: top;\n",
              "    }\n",
              "\n",
              "    .dataframe thead th {\n",
              "        text-align: right;\n",
              "    }\n",
              "</style>\n",
              "<table border=\"1\" class=\"dataframe\">\n",
              "  <thead>\n",
              "    <tr style=\"text-align: right;\">\n",
              "      <th></th>\n",
              "      <th>instant</th>\n",
              "      <th>dteday</th>\n",
              "      <th>season</th>\n",
              "      <th>yr</th>\n",
              "      <th>mnth</th>\n",
              "      <th>holiday</th>\n",
              "      <th>weekday</th>\n",
              "      <th>workingday</th>\n",
              "      <th>weathersit</th>\n",
              "      <th>temp</th>\n",
              "      <th>atemp</th>\n",
              "      <th>hum</th>\n",
              "      <th>windspeed</th>\n",
              "      <th>casual</th>\n",
              "      <th>registered</th>\n",
              "      <th>cnt</th>\n",
              "    </tr>\n",
              "  </thead>\n",
              "  <tbody>\n",
              "    <tr>\n",
              "      <th>0</th>\n",
              "      <td>1</td>\n",
              "      <td>2011-01-01</td>\n",
              "      <td>1</td>\n",
              "      <td>0</td>\n",
              "      <td>1</td>\n",
              "      <td>0</td>\n",
              "      <td>6</td>\n",
              "      <td>0</td>\n",
              "      <td>2</td>\n",
              "      <td>0.344167</td>\n",
              "      <td>0.363625</td>\n",
              "      <td>0.805833</td>\n",
              "      <td>0.160446</td>\n",
              "      <td>331</td>\n",
              "      <td>654</td>\n",
              "      <td>985</td>\n",
              "    </tr>\n",
              "    <tr>\n",
              "      <th>1</th>\n",
              "      <td>2</td>\n",
              "      <td>2011-01-02</td>\n",
              "      <td>1</td>\n",
              "      <td>0</td>\n",
              "      <td>1</td>\n",
              "      <td>0</td>\n",
              "      <td>0</td>\n",
              "      <td>0</td>\n",
              "      <td>2</td>\n",
              "      <td>0.363478</td>\n",
              "      <td>0.353739</td>\n",
              "      <td>0.696087</td>\n",
              "      <td>0.248539</td>\n",
              "      <td>131</td>\n",
              "      <td>670</td>\n",
              "      <td>801</td>\n",
              "    </tr>\n",
              "    <tr>\n",
              "      <th>2</th>\n",
              "      <td>3</td>\n",
              "      <td>2011-01-03</td>\n",
              "      <td>1</td>\n",
              "      <td>0</td>\n",
              "      <td>1</td>\n",
              "      <td>0</td>\n",
              "      <td>1</td>\n",
              "      <td>1</td>\n",
              "      <td>1</td>\n",
              "      <td>0.196364</td>\n",
              "      <td>0.189405</td>\n",
              "      <td>0.437273</td>\n",
              "      <td>0.248309</td>\n",
              "      <td>120</td>\n",
              "      <td>1229</td>\n",
              "      <td>1349</td>\n",
              "    </tr>\n",
              "    <tr>\n",
              "      <th>3</th>\n",
              "      <td>4</td>\n",
              "      <td>2011-01-04</td>\n",
              "      <td>1</td>\n",
              "      <td>0</td>\n",
              "      <td>1</td>\n",
              "      <td>0</td>\n",
              "      <td>2</td>\n",
              "      <td>1</td>\n",
              "      <td>1</td>\n",
              "      <td>0.200000</td>\n",
              "      <td>0.212122</td>\n",
              "      <td>0.590435</td>\n",
              "      <td>0.160296</td>\n",
              "      <td>108</td>\n",
              "      <td>1454</td>\n",
              "      <td>1562</td>\n",
              "    </tr>\n",
              "    <tr>\n",
              "      <th>4</th>\n",
              "      <td>5</td>\n",
              "      <td>2011-01-05</td>\n",
              "      <td>1</td>\n",
              "      <td>0</td>\n",
              "      <td>1</td>\n",
              "      <td>0</td>\n",
              "      <td>3</td>\n",
              "      <td>1</td>\n",
              "      <td>1</td>\n",
              "      <td>0.226957</td>\n",
              "      <td>0.229270</td>\n",
              "      <td>0.436957</td>\n",
              "      <td>0.186900</td>\n",
              "      <td>82</td>\n",
              "      <td>1518</td>\n",
              "      <td>1600</td>\n",
              "    </tr>\n",
              "  </tbody>\n",
              "</table>\n",
              "</div>"
            ],
            "text/plain": [
              "   instant      dteday  season  yr  mnth  holiday  weekday  workingday  \\\n",
              "0        1  2011-01-01       1   0     1        0        6           0   \n",
              "1        2  2011-01-02       1   0     1        0        0           0   \n",
              "2        3  2011-01-03       1   0     1        0        1           1   \n",
              "3        4  2011-01-04       1   0     1        0        2           1   \n",
              "4        5  2011-01-05       1   0     1        0        3           1   \n",
              "\n",
              "   weathersit      temp     atemp       hum  windspeed  casual  registered  \\\n",
              "0           2  0.344167  0.363625  0.805833   0.160446     331         654   \n",
              "1           2  0.363478  0.353739  0.696087   0.248539     131         670   \n",
              "2           1  0.196364  0.189405  0.437273   0.248309     120        1229   \n",
              "3           1  0.200000  0.212122  0.590435   0.160296     108        1454   \n",
              "4           1  0.226957  0.229270  0.436957   0.186900      82        1518   \n",
              "\n",
              "    cnt  \n",
              "0   985  \n",
              "1   801  \n",
              "2  1349  \n",
              "3  1562  \n",
              "4  1600  "
            ]
          },
          "execution_count": 160,
          "metadata": {},
          "output_type": "execute_result"
        }
      ],
      "source": [
        "day_df = pd.read_csv(\"https://raw.githubusercontent.com/dysthymicfact/AnalisisDataPython/refs/heads/main/data/day.csv\")\n",
        "day_df.head()"
      ]
    },
    {
      "cell_type": "markdown",
      "metadata": {},
      "source": [
        "2. Memuat Tabel Hour menjadi sebuah DataFrame"
      ]
    },
    {
      "cell_type": "code",
      "execution_count": 161,
      "metadata": {},
      "outputs": [
        {
          "data": {
            "text/html": [
              "<div>\n",
              "<style scoped>\n",
              "    .dataframe tbody tr th:only-of-type {\n",
              "        vertical-align: middle;\n",
              "    }\n",
              "\n",
              "    .dataframe tbody tr th {\n",
              "        vertical-align: top;\n",
              "    }\n",
              "\n",
              "    .dataframe thead th {\n",
              "        text-align: right;\n",
              "    }\n",
              "</style>\n",
              "<table border=\"1\" class=\"dataframe\">\n",
              "  <thead>\n",
              "    <tr style=\"text-align: right;\">\n",
              "      <th></th>\n",
              "      <th>instant</th>\n",
              "      <th>dteday</th>\n",
              "      <th>season</th>\n",
              "      <th>yr</th>\n",
              "      <th>mnth</th>\n",
              "      <th>hr</th>\n",
              "      <th>holiday</th>\n",
              "      <th>weekday</th>\n",
              "      <th>workingday</th>\n",
              "      <th>weathersit</th>\n",
              "      <th>temp</th>\n",
              "      <th>atemp</th>\n",
              "      <th>hum</th>\n",
              "      <th>windspeed</th>\n",
              "      <th>casual</th>\n",
              "      <th>registered</th>\n",
              "      <th>cnt</th>\n",
              "    </tr>\n",
              "  </thead>\n",
              "  <tbody>\n",
              "    <tr>\n",
              "      <th>0</th>\n",
              "      <td>1</td>\n",
              "      <td>2011-01-01</td>\n",
              "      <td>1</td>\n",
              "      <td>0</td>\n",
              "      <td>1</td>\n",
              "      <td>0</td>\n",
              "      <td>0</td>\n",
              "      <td>6</td>\n",
              "      <td>0</td>\n",
              "      <td>1</td>\n",
              "      <td>0.24</td>\n",
              "      <td>0.2879</td>\n",
              "      <td>0.81</td>\n",
              "      <td>0.0</td>\n",
              "      <td>3</td>\n",
              "      <td>13</td>\n",
              "      <td>16</td>\n",
              "    </tr>\n",
              "    <tr>\n",
              "      <th>1</th>\n",
              "      <td>2</td>\n",
              "      <td>2011-01-01</td>\n",
              "      <td>1</td>\n",
              "      <td>0</td>\n",
              "      <td>1</td>\n",
              "      <td>1</td>\n",
              "      <td>0</td>\n",
              "      <td>6</td>\n",
              "      <td>0</td>\n",
              "      <td>1</td>\n",
              "      <td>0.22</td>\n",
              "      <td>0.2727</td>\n",
              "      <td>0.80</td>\n",
              "      <td>0.0</td>\n",
              "      <td>8</td>\n",
              "      <td>32</td>\n",
              "      <td>40</td>\n",
              "    </tr>\n",
              "    <tr>\n",
              "      <th>2</th>\n",
              "      <td>3</td>\n",
              "      <td>2011-01-01</td>\n",
              "      <td>1</td>\n",
              "      <td>0</td>\n",
              "      <td>1</td>\n",
              "      <td>2</td>\n",
              "      <td>0</td>\n",
              "      <td>6</td>\n",
              "      <td>0</td>\n",
              "      <td>1</td>\n",
              "      <td>0.22</td>\n",
              "      <td>0.2727</td>\n",
              "      <td>0.80</td>\n",
              "      <td>0.0</td>\n",
              "      <td>5</td>\n",
              "      <td>27</td>\n",
              "      <td>32</td>\n",
              "    </tr>\n",
              "    <tr>\n",
              "      <th>3</th>\n",
              "      <td>4</td>\n",
              "      <td>2011-01-01</td>\n",
              "      <td>1</td>\n",
              "      <td>0</td>\n",
              "      <td>1</td>\n",
              "      <td>3</td>\n",
              "      <td>0</td>\n",
              "      <td>6</td>\n",
              "      <td>0</td>\n",
              "      <td>1</td>\n",
              "      <td>0.24</td>\n",
              "      <td>0.2879</td>\n",
              "      <td>0.75</td>\n",
              "      <td>0.0</td>\n",
              "      <td>3</td>\n",
              "      <td>10</td>\n",
              "      <td>13</td>\n",
              "    </tr>\n",
              "    <tr>\n",
              "      <th>4</th>\n",
              "      <td>5</td>\n",
              "      <td>2011-01-01</td>\n",
              "      <td>1</td>\n",
              "      <td>0</td>\n",
              "      <td>1</td>\n",
              "      <td>4</td>\n",
              "      <td>0</td>\n",
              "      <td>6</td>\n",
              "      <td>0</td>\n",
              "      <td>1</td>\n",
              "      <td>0.24</td>\n",
              "      <td>0.2879</td>\n",
              "      <td>0.75</td>\n",
              "      <td>0.0</td>\n",
              "      <td>0</td>\n",
              "      <td>1</td>\n",
              "      <td>1</td>\n",
              "    </tr>\n",
              "  </tbody>\n",
              "</table>\n",
              "</div>"
            ],
            "text/plain": [
              "   instant      dteday  season  yr  mnth  hr  holiday  weekday  workingday  \\\n",
              "0        1  2011-01-01       1   0     1   0        0        6           0   \n",
              "1        2  2011-01-01       1   0     1   1        0        6           0   \n",
              "2        3  2011-01-01       1   0     1   2        0        6           0   \n",
              "3        4  2011-01-01       1   0     1   3        0        6           0   \n",
              "4        5  2011-01-01       1   0     1   4        0        6           0   \n",
              "\n",
              "   weathersit  temp   atemp   hum  windspeed  casual  registered  cnt  \n",
              "0           1  0.24  0.2879  0.81        0.0       3          13   16  \n",
              "1           1  0.22  0.2727  0.80        0.0       8          32   40  \n",
              "2           1  0.22  0.2727  0.80        0.0       5          27   32  \n",
              "3           1  0.24  0.2879  0.75        0.0       3          10   13  \n",
              "4           1  0.24  0.2879  0.75        0.0       0           1    1  "
            ]
          },
          "execution_count": 161,
          "metadata": {},
          "output_type": "execute_result"
        }
      ],
      "source": [
        "hour_df = pd.read_csv(\"https://raw.githubusercontent.com/dysthymicfact/AnalisisDataPython/refs/heads/main/data/hour.csv\")\n",
        "hour_df.head()"
      ]
    },
    {
      "cell_type": "markdown",
      "metadata": {
        "id": "FHSiqaZp8DC1"
      },
      "source": [
        "### Assessing Data"
      ]
    },
    {
      "cell_type": "markdown",
      "metadata": {},
      "source": [
        "1. Memeriksa tipe data dari tiap kolom yang terdapat dalam day_df"
      ]
    },
    {
      "cell_type": "code",
      "execution_count": 162,
      "metadata": {
        "id": "ax-3tEjc9Cj1"
      },
      "outputs": [
        {
          "name": "stdout",
          "output_type": "stream",
          "text": [
            "<class 'pandas.core.frame.DataFrame'>\n",
            "RangeIndex: 731 entries, 0 to 730\n",
            "Data columns (total 16 columns):\n",
            " #   Column      Non-Null Count  Dtype  \n",
            "---  ------      --------------  -----  \n",
            " 0   instant     731 non-null    int64  \n",
            " 1   dteday      731 non-null    object \n",
            " 2   season      731 non-null    int64  \n",
            " 3   yr          731 non-null    int64  \n",
            " 4   mnth        731 non-null    int64  \n",
            " 5   holiday     731 non-null    int64  \n",
            " 6   weekday     731 non-null    int64  \n",
            " 7   workingday  731 non-null    int64  \n",
            " 8   weathersit  731 non-null    int64  \n",
            " 9   temp        731 non-null    float64\n",
            " 10  atemp       731 non-null    float64\n",
            " 11  hum         731 non-null    float64\n",
            " 12  windspeed   731 non-null    float64\n",
            " 13  casual      731 non-null    int64  \n",
            " 14  registered  731 non-null    int64  \n",
            " 15  cnt         731 non-null    int64  \n",
            "dtypes: float64(4), int64(11), object(1)\n",
            "memory usage: 91.5+ KB\n"
          ]
        }
      ],
      "source": [
        "day_df.info()"
      ]
    },
    {
      "cell_type": "markdown",
      "metadata": {
        "id": "7dtxhAPrkhPL"
      },
      "source": [
        "**Insight:**\n",
        "- Berdasarkan tipe data dari seluruh kolom menunjukkan bahwa terdapat tipe data yang tidak sesuai yakni pada kolom dteday dengan tipe data object semestinya datetime"
      ]
    },
    {
      "cell_type": "markdown",
      "metadata": {},
      "source": [
        "Untuk memastikan tidak terdapat missing values maka dapat dilakukan pengecekan sebagai berikut"
      ]
    },
    {
      "cell_type": "code",
      "execution_count": 163,
      "metadata": {},
      "outputs": [
        {
          "data": {
            "text/plain": [
              "instant       0\n",
              "dteday        0\n",
              "season        0\n",
              "yr            0\n",
              "mnth          0\n",
              "holiday       0\n",
              "weekday       0\n",
              "workingday    0\n",
              "weathersit    0\n",
              "temp          0\n",
              "atemp         0\n",
              "hum           0\n",
              "windspeed     0\n",
              "casual        0\n",
              "registered    0\n",
              "cnt           0\n",
              "dtype: int64"
            ]
          },
          "execution_count": 163,
          "metadata": {},
          "output_type": "execute_result"
        }
      ],
      "source": [
        "day_df.isna().sum()"
      ]
    },
    {
      "cell_type": "markdown",
      "metadata": {},
      "source": [
        "**Insight:**\n",
        "- Terbukti tidak terdapat missing values pada seluruh kolom"
      ]
    },
    {
      "cell_type": "markdown",
      "metadata": {},
      "source": [
        "Untuk memastikan tidak terdapat duplikasi data maka dapat dilakukan pengecekan sebagai berikut"
      ]
    },
    {
      "cell_type": "code",
      "execution_count": 164,
      "metadata": {},
      "outputs": [
        {
          "name": "stdout",
          "output_type": "stream",
          "text": [
            "Jumlah duplikasi: 0\n"
          ]
        }
      ],
      "source": [
        "print(\"Jumlah duplikasi:\", day_df.duplicated().sum())"
      ]
    },
    {
      "cell_type": "markdown",
      "metadata": {},
      "source": [
        "**Insights:**\n",
        "Tidak terdapat data duplikat "
      ]
    },
    {
      "cell_type": "markdown",
      "metadata": {},
      "source": [
        "2. Memeriksa tipe data dari tiap kolom yang terdapat dalam hour_df"
      ]
    },
    {
      "cell_type": "code",
      "execution_count": 165,
      "metadata": {},
      "outputs": [
        {
          "name": "stdout",
          "output_type": "stream",
          "text": [
            "<class 'pandas.core.frame.DataFrame'>\n",
            "RangeIndex: 17379 entries, 0 to 17378\n",
            "Data columns (total 17 columns):\n",
            " #   Column      Non-Null Count  Dtype  \n",
            "---  ------      --------------  -----  \n",
            " 0   instant     17379 non-null  int64  \n",
            " 1   dteday      17379 non-null  object \n",
            " 2   season      17379 non-null  int64  \n",
            " 3   yr          17379 non-null  int64  \n",
            " 4   mnth        17379 non-null  int64  \n",
            " 5   hr          17379 non-null  int64  \n",
            " 6   holiday     17379 non-null  int64  \n",
            " 7   weekday     17379 non-null  int64  \n",
            " 8   workingday  17379 non-null  int64  \n",
            " 9   weathersit  17379 non-null  int64  \n",
            " 10  temp        17379 non-null  float64\n",
            " 11  atemp       17379 non-null  float64\n",
            " 12  hum         17379 non-null  float64\n",
            " 13  windspeed   17379 non-null  float64\n",
            " 14  casual      17379 non-null  int64  \n",
            " 15  registered  17379 non-null  int64  \n",
            " 16  cnt         17379 non-null  int64  \n",
            "dtypes: float64(4), int64(12), object(1)\n",
            "memory usage: 2.3+ MB\n"
          ]
        }
      ],
      "source": [
        "hour_df.info()"
      ]
    },
    {
      "cell_type": "markdown",
      "metadata": {},
      "source": [
        "**Insights:**\n",
        "- Berdasarkan tipe data dari seluruh kolom menunjukkan bahwa terdapat tipe data yang tidak sesuai yakni pada kolom dteday dengan tipe data ojbect, semestinya datetime"
      ]
    },
    {
      "cell_type": "markdown",
      "metadata": {},
      "source": [
        "Untuk memastikan tidak terdapat missing values maka dapat dilakukan pengecekan sebagai berikut"
      ]
    },
    {
      "cell_type": "code",
      "execution_count": 166,
      "metadata": {},
      "outputs": [
        {
          "data": {
            "text/plain": [
              "instant       0\n",
              "dteday        0\n",
              "season        0\n",
              "yr            0\n",
              "mnth          0\n",
              "hr            0\n",
              "holiday       0\n",
              "weekday       0\n",
              "workingday    0\n",
              "weathersit    0\n",
              "temp          0\n",
              "atemp         0\n",
              "hum           0\n",
              "windspeed     0\n",
              "casual        0\n",
              "registered    0\n",
              "cnt           0\n",
              "dtype: int64"
            ]
          },
          "execution_count": 166,
          "metadata": {},
          "output_type": "execute_result"
        }
      ],
      "source": [
        "hour_df.isna().sum()"
      ]
    },
    {
      "cell_type": "markdown",
      "metadata": {},
      "source": [
        "**Insight:**\n",
        "- Terbukti tidak terdapat missing values pada seluruh kolom"
      ]
    },
    {
      "cell_type": "markdown",
      "metadata": {},
      "source": [
        "Untuk memastikan tidak terdapat duplikasi data maka dapat dilakukan pengecekan sebagai berikut"
      ]
    },
    {
      "cell_type": "code",
      "execution_count": 167,
      "metadata": {},
      "outputs": [
        {
          "name": "stdout",
          "output_type": "stream",
          "text": [
            "Jumlah duplikasi: 0\n"
          ]
        }
      ],
      "source": [
        "print(\"Jumlah duplikasi:\", hour_df.duplicated().sum())"
      ]
    },
    {
      "cell_type": "markdown",
      "metadata": {},
      "source": [
        "**Insights:**\n",
        "Tidak terdapat data duplikat "
      ]
    },
    {
      "cell_type": "markdown",
      "metadata": {
        "id": "EhN5R4hr8DC1"
      },
      "source": [
        "### Cleaning Data"
      ]
    },
    {
      "cell_type": "code",
      "execution_count": 168,
      "metadata": {},
      "outputs": [
        {
          "name": "stdout",
          "output_type": "stream",
          "text": [
            "<class 'pandas.core.frame.DataFrame'>\n",
            "RangeIndex: 731 entries, 0 to 730\n",
            "Data columns (total 16 columns):\n",
            " #   Column      Non-Null Count  Dtype         \n",
            "---  ------      --------------  -----         \n",
            " 0   instant     731 non-null    int64         \n",
            " 1   dteday      731 non-null    datetime64[ns]\n",
            " 2   season      731 non-null    int64         \n",
            " 3   yr          731 non-null    int64         \n",
            " 4   mnth        731 non-null    int64         \n",
            " 5   holiday     731 non-null    int64         \n",
            " 6   weekday     731 non-null    int64         \n",
            " 7   workingday  731 non-null    int64         \n",
            " 8   weathersit  731 non-null    int64         \n",
            " 9   temp        731 non-null    float64       \n",
            " 10  atemp       731 non-null    float64       \n",
            " 11  hum         731 non-null    float64       \n",
            " 12  windspeed   731 non-null    float64       \n",
            " 13  casual      731 non-null    int64         \n",
            " 14  registered  731 non-null    int64         \n",
            " 15  cnt         731 non-null    int64         \n",
            "dtypes: datetime64[ns](1), float64(4), int64(11)\n",
            "memory usage: 91.5 KB\n",
            "None\n"
          ]
        }
      ],
      "source": [
        "# Mengubah kolom \"dteday\" menjadi tipe data datetime untuk data day\n",
        "day_df[\"dteday\"] = pd.to_datetime(day_df[\"dteday\"])\n",
        "print(day_df.info())"
      ]
    },
    {
      "cell_type": "code",
      "execution_count": 169,
      "metadata": {},
      "outputs": [
        {
          "name": "stdout",
          "output_type": "stream",
          "text": [
            "<class 'pandas.core.frame.DataFrame'>\n",
            "RangeIndex: 17379 entries, 0 to 17378\n",
            "Data columns (total 17 columns):\n",
            " #   Column      Non-Null Count  Dtype         \n",
            "---  ------      --------------  -----         \n",
            " 0   instant     17379 non-null  int64         \n",
            " 1   dteday      17379 non-null  datetime64[ns]\n",
            " 2   season      17379 non-null  int64         \n",
            " 3   yr          17379 non-null  int64         \n",
            " 4   mnth        17379 non-null  int64         \n",
            " 5   hr          17379 non-null  int64         \n",
            " 6   holiday     17379 non-null  int64         \n",
            " 7   weekday     17379 non-null  int64         \n",
            " 8   workingday  17379 non-null  int64         \n",
            " 9   weathersit  17379 non-null  int64         \n",
            " 10  temp        17379 non-null  float64       \n",
            " 11  atemp       17379 non-null  float64       \n",
            " 12  hum         17379 non-null  float64       \n",
            " 13  windspeed   17379 non-null  float64       \n",
            " 14  casual      17379 non-null  int64         \n",
            " 15  registered  17379 non-null  int64         \n",
            " 16  cnt         17379 non-null  int64         \n",
            "dtypes: datetime64[ns](1), float64(4), int64(12)\n",
            "memory usage: 2.3 MB\n",
            "None\n"
          ]
        }
      ],
      "source": [
        "# Mengubah kolom \"dteday\" menjadi tipe data datetime untuk data hour\n",
        "hour_df[\"dteday\"] = pd.to_datetime(hour_df[\"dteday\"])\n",
        "print(hour_df.info())"
      ]
    },
    {
      "cell_type": "code",
      "execution_count": 170,
      "metadata": {},
      "outputs": [],
      "source": [
        "# Mengubah angka menjadi keterangan agar lebih mudah dibaca\n",
        "\n",
        "# Mendefisikan nama untuk season\n",
        "day_df['season'] = day_df['season'].replace({\n",
        "    1: 'Springer',\n",
        "    2: 'Summer',\n",
        "    3: 'Fall',\n",
        "    4: 'Winter'\n",
        "})\n",
        "\n",
        "hour_df['season'] = hour_df['season'].replace({\n",
        "    1: 'Springer',\n",
        "    2: 'Summer',\n",
        "    3: 'Fall',\n",
        "    4: 'Winter'\n",
        "})\n",
        "\n",
        "# Mendefisikan nama untuk workingday\n",
        "day_df['workingday'] = day_df['workingday'].replace({\n",
        "    0: 'Weekend',\n",
        "    1: 'Weekday'\n",
        "})\n",
        "\n",
        "hour_df['workingday'] = hour_df['workingday'].replace({\n",
        "    0: 'Weekend',\n",
        "    1: 'Weekday'\n",
        "})\n",
        "\n",
        "# Mendefinisikan nama untuk weathersit\n",
        "day_df['weathersit'] = day_df['weathersit'].replace({\n",
        "    1: 'Clear',\n",
        "    2: 'Mist + Cloudy',\n",
        "    3: 'Light Snow',\n",
        "    4: 'Heavy Rain'\n",
        "})\n",
        "\n",
        "hour_df['weathersit'] = hour_df['weathersit'].replace({\n",
        "    1: 'Clear',\n",
        "    2: 'Mist + Cloudy',\n",
        "    3: 'Light Snow',\n",
        "    4: 'Heavy Rain'\n",
        "})\n",
        "\n",
        "# Mendefinisikan nama untuk weekday\n",
        "day_df['weekday'] = day_df['weekday'].replace({\n",
        "    0: 'Sunday',\n",
        "    1: 'Monday',\n",
        "    2: 'Tuesday',\n",
        "    3: 'Wednesday',\n",
        "    4: 'Thursday',\n",
        "    5: 'Friday',\n",
        "    6: 'Saturday'\n",
        "})\n",
        "\n",
        "hour_df['weekday'] = hour_df['weekday'].replace({\n",
        "    0: 'Sunday',\n",
        "    1: 'Monday',\n",
        "    2: 'Tuesday',\n",
        "    3: 'Wednesday',\n",
        "    4: 'Thursday',\n",
        "    5: 'Friday',\n",
        "    6: 'Saturday'\n",
        "})\n",
        "\n",
        "# Mengubah angka menjadi tahun\n",
        "day_df['yr'] = day_df['yr'].replace({\n",
        "    0: 2011,\n",
        "    1: 2012\n",
        "}) \n",
        "\n",
        "hour_df['yr'] = hour_df['yr'].replace({\n",
        "    0: 2011,\n",
        "    1: 2012\n",
        "}) "
      ]
    },
    {
      "cell_type": "markdown",
      "metadata": {},
      "source": [
        "**Insight:**\n",
        "- tipe data pada kolom dteday yang semula object telah diubah menjadi datetime\n",
        "- kolom angka pada season, workingday, weathersit dan weekday diubah menjadi nama sesuai kolom tersebut agar mudah dipahami"
      ]
    },
    {
      "cell_type": "markdown",
      "metadata": {
        "id": "gp-Y6wU38DC1"
      },
      "source": [
        "## Exploratory Data Analysis (EDA)"
      ]
    },
    {
      "cell_type": "markdown",
      "metadata": {
        "id": "MW7WF2kr8DC1"
      },
      "source": [
        "### Explore ..."
      ]
    },
    {
      "cell_type": "markdown",
      "metadata": {},
      "source": [
        "1. Eksplorasi Data day_df"
      ]
    },
    {
      "cell_type": "code",
      "execution_count": 171,
      "metadata": {
        "id": "e9CQCZjk8DC2"
      },
      "outputs": [
        {
          "data": {
            "text/html": [
              "<div>\n",
              "<style scoped>\n",
              "    .dataframe tbody tr th:only-of-type {\n",
              "        vertical-align: middle;\n",
              "    }\n",
              "\n",
              "    .dataframe tbody tr th {\n",
              "        vertical-align: top;\n",
              "    }\n",
              "\n",
              "    .dataframe thead th {\n",
              "        text-align: right;\n",
              "    }\n",
              "</style>\n",
              "<table border=\"1\" class=\"dataframe\">\n",
              "  <thead>\n",
              "    <tr style=\"text-align: right;\">\n",
              "      <th></th>\n",
              "      <th>instant</th>\n",
              "      <th>dteday</th>\n",
              "      <th>season</th>\n",
              "      <th>yr</th>\n",
              "      <th>mnth</th>\n",
              "      <th>holiday</th>\n",
              "      <th>weekday</th>\n",
              "      <th>workingday</th>\n",
              "      <th>weathersit</th>\n",
              "      <th>temp</th>\n",
              "      <th>atemp</th>\n",
              "      <th>hum</th>\n",
              "      <th>windspeed</th>\n",
              "      <th>casual</th>\n",
              "      <th>registered</th>\n",
              "      <th>cnt</th>\n",
              "    </tr>\n",
              "  </thead>\n",
              "  <tbody>\n",
              "    <tr>\n",
              "      <th>count</th>\n",
              "      <td>731.000000</td>\n",
              "      <td>731</td>\n",
              "      <td>731</td>\n",
              "      <td>731.000000</td>\n",
              "      <td>731.000000</td>\n",
              "      <td>731.000000</td>\n",
              "      <td>731</td>\n",
              "      <td>731</td>\n",
              "      <td>731</td>\n",
              "      <td>731.000000</td>\n",
              "      <td>731.000000</td>\n",
              "      <td>731.000000</td>\n",
              "      <td>731.000000</td>\n",
              "      <td>731.000000</td>\n",
              "      <td>731.000000</td>\n",
              "      <td>731.000000</td>\n",
              "    </tr>\n",
              "    <tr>\n",
              "      <th>unique</th>\n",
              "      <td>NaN</td>\n",
              "      <td>NaN</td>\n",
              "      <td>4</td>\n",
              "      <td>NaN</td>\n",
              "      <td>NaN</td>\n",
              "      <td>NaN</td>\n",
              "      <td>7</td>\n",
              "      <td>2</td>\n",
              "      <td>3</td>\n",
              "      <td>NaN</td>\n",
              "      <td>NaN</td>\n",
              "      <td>NaN</td>\n",
              "      <td>NaN</td>\n",
              "      <td>NaN</td>\n",
              "      <td>NaN</td>\n",
              "      <td>NaN</td>\n",
              "    </tr>\n",
              "    <tr>\n",
              "      <th>top</th>\n",
              "      <td>NaN</td>\n",
              "      <td>NaN</td>\n",
              "      <td>Fall</td>\n",
              "      <td>NaN</td>\n",
              "      <td>NaN</td>\n",
              "      <td>NaN</td>\n",
              "      <td>Saturday</td>\n",
              "      <td>Weekday</td>\n",
              "      <td>Clear</td>\n",
              "      <td>NaN</td>\n",
              "      <td>NaN</td>\n",
              "      <td>NaN</td>\n",
              "      <td>NaN</td>\n",
              "      <td>NaN</td>\n",
              "      <td>NaN</td>\n",
              "      <td>NaN</td>\n",
              "    </tr>\n",
              "    <tr>\n",
              "      <th>freq</th>\n",
              "      <td>NaN</td>\n",
              "      <td>NaN</td>\n",
              "      <td>188</td>\n",
              "      <td>NaN</td>\n",
              "      <td>NaN</td>\n",
              "      <td>NaN</td>\n",
              "      <td>105</td>\n",
              "      <td>500</td>\n",
              "      <td>463</td>\n",
              "      <td>NaN</td>\n",
              "      <td>NaN</td>\n",
              "      <td>NaN</td>\n",
              "      <td>NaN</td>\n",
              "      <td>NaN</td>\n",
              "      <td>NaN</td>\n",
              "      <td>NaN</td>\n",
              "    </tr>\n",
              "    <tr>\n",
              "      <th>mean</th>\n",
              "      <td>366.000000</td>\n",
              "      <td>2012-01-01 00:00:00</td>\n",
              "      <td>NaN</td>\n",
              "      <td>2011.500684</td>\n",
              "      <td>6.519836</td>\n",
              "      <td>0.028728</td>\n",
              "      <td>NaN</td>\n",
              "      <td>NaN</td>\n",
              "      <td>NaN</td>\n",
              "      <td>0.495385</td>\n",
              "      <td>0.474354</td>\n",
              "      <td>0.627894</td>\n",
              "      <td>0.190486</td>\n",
              "      <td>848.176471</td>\n",
              "      <td>3656.172367</td>\n",
              "      <td>4504.348837</td>\n",
              "    </tr>\n",
              "    <tr>\n",
              "      <th>min</th>\n",
              "      <td>1.000000</td>\n",
              "      <td>2011-01-01 00:00:00</td>\n",
              "      <td>NaN</td>\n",
              "      <td>2011.000000</td>\n",
              "      <td>1.000000</td>\n",
              "      <td>0.000000</td>\n",
              "      <td>NaN</td>\n",
              "      <td>NaN</td>\n",
              "      <td>NaN</td>\n",
              "      <td>0.059130</td>\n",
              "      <td>0.079070</td>\n",
              "      <td>0.000000</td>\n",
              "      <td>0.022392</td>\n",
              "      <td>2.000000</td>\n",
              "      <td>20.000000</td>\n",
              "      <td>22.000000</td>\n",
              "    </tr>\n",
              "    <tr>\n",
              "      <th>25%</th>\n",
              "      <td>183.500000</td>\n",
              "      <td>2011-07-02 12:00:00</td>\n",
              "      <td>NaN</td>\n",
              "      <td>2011.000000</td>\n",
              "      <td>4.000000</td>\n",
              "      <td>0.000000</td>\n",
              "      <td>NaN</td>\n",
              "      <td>NaN</td>\n",
              "      <td>NaN</td>\n",
              "      <td>0.337083</td>\n",
              "      <td>0.337842</td>\n",
              "      <td>0.520000</td>\n",
              "      <td>0.134950</td>\n",
              "      <td>315.500000</td>\n",
              "      <td>2497.000000</td>\n",
              "      <td>3152.000000</td>\n",
              "    </tr>\n",
              "    <tr>\n",
              "      <th>50%</th>\n",
              "      <td>366.000000</td>\n",
              "      <td>2012-01-01 00:00:00</td>\n",
              "      <td>NaN</td>\n",
              "      <td>2012.000000</td>\n",
              "      <td>7.000000</td>\n",
              "      <td>0.000000</td>\n",
              "      <td>NaN</td>\n",
              "      <td>NaN</td>\n",
              "      <td>NaN</td>\n",
              "      <td>0.498333</td>\n",
              "      <td>0.486733</td>\n",
              "      <td>0.626667</td>\n",
              "      <td>0.180975</td>\n",
              "      <td>713.000000</td>\n",
              "      <td>3662.000000</td>\n",
              "      <td>4548.000000</td>\n",
              "    </tr>\n",
              "    <tr>\n",
              "      <th>75%</th>\n",
              "      <td>548.500000</td>\n",
              "      <td>2012-07-01 12:00:00</td>\n",
              "      <td>NaN</td>\n",
              "      <td>2012.000000</td>\n",
              "      <td>10.000000</td>\n",
              "      <td>0.000000</td>\n",
              "      <td>NaN</td>\n",
              "      <td>NaN</td>\n",
              "      <td>NaN</td>\n",
              "      <td>0.655417</td>\n",
              "      <td>0.608602</td>\n",
              "      <td>0.730209</td>\n",
              "      <td>0.233214</td>\n",
              "      <td>1096.000000</td>\n",
              "      <td>4776.500000</td>\n",
              "      <td>5956.000000</td>\n",
              "    </tr>\n",
              "    <tr>\n",
              "      <th>max</th>\n",
              "      <td>731.000000</td>\n",
              "      <td>2012-12-31 00:00:00</td>\n",
              "      <td>NaN</td>\n",
              "      <td>2012.000000</td>\n",
              "      <td>12.000000</td>\n",
              "      <td>1.000000</td>\n",
              "      <td>NaN</td>\n",
              "      <td>NaN</td>\n",
              "      <td>NaN</td>\n",
              "      <td>0.861667</td>\n",
              "      <td>0.840896</td>\n",
              "      <td>0.972500</td>\n",
              "      <td>0.507463</td>\n",
              "      <td>3410.000000</td>\n",
              "      <td>6946.000000</td>\n",
              "      <td>8714.000000</td>\n",
              "    </tr>\n",
              "    <tr>\n",
              "      <th>std</th>\n",
              "      <td>211.165812</td>\n",
              "      <td>NaN</td>\n",
              "      <td>NaN</td>\n",
              "      <td>0.500342</td>\n",
              "      <td>3.451913</td>\n",
              "      <td>0.167155</td>\n",
              "      <td>NaN</td>\n",
              "      <td>NaN</td>\n",
              "      <td>NaN</td>\n",
              "      <td>0.183051</td>\n",
              "      <td>0.162961</td>\n",
              "      <td>0.142429</td>\n",
              "      <td>0.077498</td>\n",
              "      <td>686.622488</td>\n",
              "      <td>1560.256377</td>\n",
              "      <td>1937.211452</td>\n",
              "    </tr>\n",
              "  </tbody>\n",
              "</table>\n",
              "</div>"
            ],
            "text/plain": [
              "           instant               dteday season           yr        mnth  \\\n",
              "count   731.000000                  731    731   731.000000  731.000000   \n",
              "unique         NaN                  NaN      4          NaN         NaN   \n",
              "top            NaN                  NaN   Fall          NaN         NaN   \n",
              "freq           NaN                  NaN    188          NaN         NaN   \n",
              "mean    366.000000  2012-01-01 00:00:00    NaN  2011.500684    6.519836   \n",
              "min       1.000000  2011-01-01 00:00:00    NaN  2011.000000    1.000000   \n",
              "25%     183.500000  2011-07-02 12:00:00    NaN  2011.000000    4.000000   \n",
              "50%     366.000000  2012-01-01 00:00:00    NaN  2012.000000    7.000000   \n",
              "75%     548.500000  2012-07-01 12:00:00    NaN  2012.000000   10.000000   \n",
              "max     731.000000  2012-12-31 00:00:00    NaN  2012.000000   12.000000   \n",
              "std     211.165812                  NaN    NaN     0.500342    3.451913   \n",
              "\n",
              "           holiday   weekday workingday weathersit        temp       atemp  \\\n",
              "count   731.000000       731        731        731  731.000000  731.000000   \n",
              "unique         NaN         7          2          3         NaN         NaN   \n",
              "top            NaN  Saturday    Weekday      Clear         NaN         NaN   \n",
              "freq           NaN       105        500        463         NaN         NaN   \n",
              "mean      0.028728       NaN        NaN        NaN    0.495385    0.474354   \n",
              "min       0.000000       NaN        NaN        NaN    0.059130    0.079070   \n",
              "25%       0.000000       NaN        NaN        NaN    0.337083    0.337842   \n",
              "50%       0.000000       NaN        NaN        NaN    0.498333    0.486733   \n",
              "75%       0.000000       NaN        NaN        NaN    0.655417    0.608602   \n",
              "max       1.000000       NaN        NaN        NaN    0.861667    0.840896   \n",
              "std       0.167155       NaN        NaN        NaN    0.183051    0.162961   \n",
              "\n",
              "               hum   windspeed       casual   registered          cnt  \n",
              "count   731.000000  731.000000   731.000000   731.000000   731.000000  \n",
              "unique         NaN         NaN          NaN          NaN          NaN  \n",
              "top            NaN         NaN          NaN          NaN          NaN  \n",
              "freq           NaN         NaN          NaN          NaN          NaN  \n",
              "mean      0.627894    0.190486   848.176471  3656.172367  4504.348837  \n",
              "min       0.000000    0.022392     2.000000    20.000000    22.000000  \n",
              "25%       0.520000    0.134950   315.500000  2497.000000  3152.000000  \n",
              "50%       0.626667    0.180975   713.000000  3662.000000  4548.000000  \n",
              "75%       0.730209    0.233214  1096.000000  4776.500000  5956.000000  \n",
              "max       0.972500    0.507463  3410.000000  6946.000000  8714.000000  \n",
              "std       0.142429    0.077498   686.622488  1560.256377  1937.211452  "
            ]
          },
          "execution_count": 171,
          "metadata": {},
          "output_type": "execute_result"
        }
      ],
      "source": [
        "day_df.describe(include=\"all\")"
      ]
    },
    {
      "cell_type": "code",
      "execution_count": 172,
      "metadata": {},
      "outputs": [
        {
          "name": "stdout",
          "output_type": "stream",
          "text": [
            "workingday      Weekday      Weekend\n",
            "season                              \n",
            "Fall        5718.114504  5474.666667\n",
            "Springer    2780.541667  2257.098361\n",
            "Summer      4926.664062  5142.428571\n",
            "Winter      4785.611570  4606.210526\n",
            "workingday\n",
            "Weekday    4584.820000\n",
            "Weekend    4330.168831\n",
            "Name: cnt, dtype: float64\n"
          ]
        }
      ],
      "source": [
        "pivot_table = pd.pivot_table(day_df, \n",
        "                             values='cnt', \n",
        "                             index='season', \n",
        "                             columns='workingday', \n",
        "                             aggfunc='mean')\n",
        "print(pivot_table)\n",
        "\n",
        "# Menghitung rata-rata penyewaan sepeda berdasarkan kategori workingday\n",
        "avg_rentals = day_df.groupby(\"workingday\")[\"cnt\"].mean()\n",
        "print(avg_rentals)"
      ]
    },
    {
      "cell_type": "markdown",
      "metadata": {},
      "source": [
        "**Insights:**\n",
        "- Secara umum, distribusi penyewaan sepeda berdasarkan musim (season) menunjukkan hasil tertinggi pada musim gugur (Fall) baik pada saat hari kerja (weekday) maupun akhir pekan (weekend), diikuti Summer, Winter dan Springer.\n",
        "- Rata-rata penyewaan sepeda cenderung tinggi saat hari kerja (weekday) sebanyak 4585 unit sedangkan saat akhir pekan (weekend) sebanyak 4330 unit. Hal ini kemungkinan disebabkan oleh tingginya permintaan penyewaan sepeda untuk keperluan komuter kerja."
      ]
    },
    {
      "cell_type": "code",
      "execution_count": 173,
      "metadata": {},
      "outputs": [
        {
          "name": "stdout",
          "output_type": "stream",
          "text": [
            "weathersit        Clear   Light Snow  Mist + Cloudy\n",
            "weekday                                            \n",
            "Friday      5078.682540          NaN    4093.487805\n",
            "Monday      4485.651515  1393.500000    4234.135135\n",
            "Saturday    4975.880597  2012.500000    4010.970588\n",
            "Sunday      4348.472973  1027.000000    4040.433333\n",
            "Thursday    5014.925373  1383.333333    4271.911765\n",
            "Tuesday     4989.903226  2887.500000    3899.605263\n",
            "Wednesday   5334.328125  1472.142857    3677.151515\n",
            "\n",
            "Rata-rata penyewaan sepeda berdasarkan weathersit (urutan menurun):\n",
            "weathersit\n",
            "Clear            4889.692050\n",
            "Mist + Cloudy    4032.527915\n",
            "Light Snow       1695.996032\n",
            "dtype: float64\n"
          ]
        }
      ],
      "source": [
        "# Membuat pivot table\n",
        "pivot_table = pd.pivot_table(day_df,\n",
        "                             values='cnt',\n",
        "                             index='weekday',\n",
        "                             columns='weathersit',\n",
        "                             aggfunc='mean')\n",
        "\n",
        "print(pivot_table)\n",
        "\n",
        "# Hitung rata-rata nilai pivot dan urutkan secara descending\n",
        "sorted_values = pivot_table.mean().sort_values(ascending=False)\n",
        "\n",
        "# Menampilkan hasil\n",
        "print(\"\\nRata-rata penyewaan sepeda berdasarkan weathersit (urutan menurun):\")\n",
        "print(sorted_values)\n"
      ]
    },
    {
      "cell_type": "markdown",
      "metadata": {},
      "source": [
        "**Insights:**\n",
        "- Pivot table digunakan untuk mengetahui pola peminjaman sepeda berdasarkan cuaca di hari tertentu (hubungan antara kondisi cuaca (weathersit) dan hari dalam minggu (weekday)). Secara umum, sebaran data penyewaan sepeda menunjukkan cuaca cerah (Clear) selalu mencatat jumlah penyewaan sepeda yang lebih tinggi daripada kondisi cuaca lainnya (Mist + Cloudy dan Lights Snow). Dengan hari Rabu (Wednesday) tercatat sebagai hari puncak untuk penyewaan sepeda saat cuaca cerah (Clear) yakni 5334 unit, lebih tinggi daripada weekend (Saturday/Sunday). Mungkin sering digunakan penyewa untuk kegiatan komuter di hari kerja\n",
        "- NaN menunjukkan tidak ada data untuk kombinasi Lights Snow di hari Jumat. Kemungkinan karena cuaca salju jarang terjadi di hari Jumat dalam dataset\n",
        "- Rata-rata penyewaan sepeda berdasarkan kondisi weathersit cenderung lebih tinggi saat cuaca cerah (Clear), dibuktikan dengan 4890 unit, dibandingkan saat cuaca berkabut (Mist + Cludy) dan salju ringan (Light Snow)"
      ]
    },
    {
      "cell_type": "code",
      "execution_count": 174,
      "metadata": {},
      "outputs": [
        {
          "name": "stdout",
          "output_type": "stream",
          "text": [
            "\n",
            "Tanggal dengan jumlah penyewaan sepeda tertinggi per bulan:\n",
            "        dteday   cnt    weekday    season      temp\n",
            "371 2012-01-07  4521   Saturday  Springer  0.393333\n",
            "418 2012-02-23  5062   Thursday  Springer  0.454167\n",
            "447 2012-03-23  8362     Friday    Summer  0.601667\n",
            "469 2012-04-14  7460   Saturday    Summer  0.495000\n",
            "504 2012-05-19  8294   Saturday    Summer  0.600000\n",
            "518 2012-06-02  8120   Saturday    Summer  0.583333\n",
            "571 2012-07-25  8173  Wednesday      Fall  0.724167\n",
            "595 2012-08-18  7865   Saturday      Fall  0.678333\n",
            "623 2012-09-15  8714   Saturday      Fall  0.608333\n",
            "643 2012-10-05  8156     Friday    Winter  0.615000\n",
            "680 2012-11-11  6852     Sunday    Winter  0.420833\n",
            "703 2012-12-04  6606    Tuesday    Winter  0.475833\n"
          ]
        }
      ],
      "source": [
        "# Mengelompokkan data berdasarkan bulan dan mengambil tanggal dengan jumlah penyewaan tertinggi dalam setiap bulan\n",
        "monthly_top_rentals = day_df.loc[day_df.groupby(day_df[\"dteday\"].dt.month)[\"cnt\"].idxmax()]\n",
        "\n",
        "# Memilih kolom yang relevan untuk output\n",
        "monthly_top_rentals_summary = monthly_top_rentals[[\"dteday\", \"cnt\", \"weekday\", \"season\", \"temp\"]]\n",
        "\n",
        "# Menampilkan hasil\n",
        "print(\"\\nTanggal dengan jumlah penyewaan sepeda tertinggi per bulan:\")\n",
        "print(monthly_top_rentals_summary)\n"
      ]
    },
    {
      "cell_type": "markdown",
      "metadata": {
        "id": "th_Lzl2Fkj9O"
      },
      "source": [
        "**Insights:**\n",
        "- Puncak penyewaan sepeda tertinggi per bulan terjadi pada bulan September hari Sabtu (Saturday) saat musim gugur (Fall) dengan jumlah penyewaan sebesar 8714 unit. Mungkin karena Sabtu merupakan akhir pekan dan didukung dengan suhu yang hangat tetapi tidak terlalu panas seperti Summer\n",
        "- Berdasarkan data jumlah penyewaan sepeda tertinggi per bulan tercatat bahwa hari favorit penyewaan sepeda adalah hari sabtu (Saturday) [6 dari 12 bulan (50%)] saat musim panas (Summer) dan semi (Sringer)"
      ]
    },
    {
      "cell_type": "markdown",
      "metadata": {},
      "source": [
        "2. Eksplorasi Data hour_df"
      ]
    },
    {
      "cell_type": "code",
      "execution_count": 175,
      "metadata": {},
      "outputs": [
        {
          "data": {
            "text/html": [
              "<div>\n",
              "<style scoped>\n",
              "    .dataframe tbody tr th:only-of-type {\n",
              "        vertical-align: middle;\n",
              "    }\n",
              "\n",
              "    .dataframe tbody tr th {\n",
              "        vertical-align: top;\n",
              "    }\n",
              "\n",
              "    .dataframe thead th {\n",
              "        text-align: right;\n",
              "    }\n",
              "</style>\n",
              "<table border=\"1\" class=\"dataframe\">\n",
              "  <thead>\n",
              "    <tr style=\"text-align: right;\">\n",
              "      <th></th>\n",
              "      <th>instant</th>\n",
              "      <th>dteday</th>\n",
              "      <th>season</th>\n",
              "      <th>yr</th>\n",
              "      <th>mnth</th>\n",
              "      <th>hr</th>\n",
              "      <th>holiday</th>\n",
              "      <th>weekday</th>\n",
              "      <th>workingday</th>\n",
              "      <th>weathersit</th>\n",
              "      <th>temp</th>\n",
              "      <th>atemp</th>\n",
              "      <th>hum</th>\n",
              "      <th>windspeed</th>\n",
              "      <th>casual</th>\n",
              "      <th>registered</th>\n",
              "      <th>cnt</th>\n",
              "    </tr>\n",
              "  </thead>\n",
              "  <tbody>\n",
              "    <tr>\n",
              "      <th>count</th>\n",
              "      <td>17379.0000</td>\n",
              "      <td>17379</td>\n",
              "      <td>17379</td>\n",
              "      <td>17379.000000</td>\n",
              "      <td>17379.000000</td>\n",
              "      <td>17379.000000</td>\n",
              "      <td>17379.000000</td>\n",
              "      <td>17379</td>\n",
              "      <td>17379</td>\n",
              "      <td>17379</td>\n",
              "      <td>17379.000000</td>\n",
              "      <td>17379.000000</td>\n",
              "      <td>17379.000000</td>\n",
              "      <td>17379.000000</td>\n",
              "      <td>17379.000000</td>\n",
              "      <td>17379.000000</td>\n",
              "      <td>17379.000000</td>\n",
              "    </tr>\n",
              "    <tr>\n",
              "      <th>unique</th>\n",
              "      <td>NaN</td>\n",
              "      <td>NaN</td>\n",
              "      <td>4</td>\n",
              "      <td>NaN</td>\n",
              "      <td>NaN</td>\n",
              "      <td>NaN</td>\n",
              "      <td>NaN</td>\n",
              "      <td>7</td>\n",
              "      <td>2</td>\n",
              "      <td>4</td>\n",
              "      <td>NaN</td>\n",
              "      <td>NaN</td>\n",
              "      <td>NaN</td>\n",
              "      <td>NaN</td>\n",
              "      <td>NaN</td>\n",
              "      <td>NaN</td>\n",
              "      <td>NaN</td>\n",
              "    </tr>\n",
              "    <tr>\n",
              "      <th>top</th>\n",
              "      <td>NaN</td>\n",
              "      <td>NaN</td>\n",
              "      <td>Fall</td>\n",
              "      <td>NaN</td>\n",
              "      <td>NaN</td>\n",
              "      <td>NaN</td>\n",
              "      <td>NaN</td>\n",
              "      <td>Saturday</td>\n",
              "      <td>Weekday</td>\n",
              "      <td>Clear</td>\n",
              "      <td>NaN</td>\n",
              "      <td>NaN</td>\n",
              "      <td>NaN</td>\n",
              "      <td>NaN</td>\n",
              "      <td>NaN</td>\n",
              "      <td>NaN</td>\n",
              "      <td>NaN</td>\n",
              "    </tr>\n",
              "    <tr>\n",
              "      <th>freq</th>\n",
              "      <td>NaN</td>\n",
              "      <td>NaN</td>\n",
              "      <td>4496</td>\n",
              "      <td>NaN</td>\n",
              "      <td>NaN</td>\n",
              "      <td>NaN</td>\n",
              "      <td>NaN</td>\n",
              "      <td>2512</td>\n",
              "      <td>11865</td>\n",
              "      <td>11413</td>\n",
              "      <td>NaN</td>\n",
              "      <td>NaN</td>\n",
              "      <td>NaN</td>\n",
              "      <td>NaN</td>\n",
              "      <td>NaN</td>\n",
              "      <td>NaN</td>\n",
              "      <td>NaN</td>\n",
              "    </tr>\n",
              "    <tr>\n",
              "      <th>mean</th>\n",
              "      <td>8690.0000</td>\n",
              "      <td>2012-01-02 04:08:34.552045568</td>\n",
              "      <td>NaN</td>\n",
              "      <td>2011.502561</td>\n",
              "      <td>6.537775</td>\n",
              "      <td>11.546752</td>\n",
              "      <td>0.028770</td>\n",
              "      <td>NaN</td>\n",
              "      <td>NaN</td>\n",
              "      <td>NaN</td>\n",
              "      <td>0.496987</td>\n",
              "      <td>0.475775</td>\n",
              "      <td>0.627229</td>\n",
              "      <td>0.190098</td>\n",
              "      <td>35.676218</td>\n",
              "      <td>153.786869</td>\n",
              "      <td>189.463088</td>\n",
              "    </tr>\n",
              "    <tr>\n",
              "      <th>min</th>\n",
              "      <td>1.0000</td>\n",
              "      <td>2011-01-01 00:00:00</td>\n",
              "      <td>NaN</td>\n",
              "      <td>2011.000000</td>\n",
              "      <td>1.000000</td>\n",
              "      <td>0.000000</td>\n",
              "      <td>0.000000</td>\n",
              "      <td>NaN</td>\n",
              "      <td>NaN</td>\n",
              "      <td>NaN</td>\n",
              "      <td>0.020000</td>\n",
              "      <td>0.000000</td>\n",
              "      <td>0.000000</td>\n",
              "      <td>0.000000</td>\n",
              "      <td>0.000000</td>\n",
              "      <td>0.000000</td>\n",
              "      <td>1.000000</td>\n",
              "    </tr>\n",
              "    <tr>\n",
              "      <th>25%</th>\n",
              "      <td>4345.5000</td>\n",
              "      <td>2011-07-04 00:00:00</td>\n",
              "      <td>NaN</td>\n",
              "      <td>2011.000000</td>\n",
              "      <td>4.000000</td>\n",
              "      <td>6.000000</td>\n",
              "      <td>0.000000</td>\n",
              "      <td>NaN</td>\n",
              "      <td>NaN</td>\n",
              "      <td>NaN</td>\n",
              "      <td>0.340000</td>\n",
              "      <td>0.333300</td>\n",
              "      <td>0.480000</td>\n",
              "      <td>0.104500</td>\n",
              "      <td>4.000000</td>\n",
              "      <td>34.000000</td>\n",
              "      <td>40.000000</td>\n",
              "    </tr>\n",
              "    <tr>\n",
              "      <th>50%</th>\n",
              "      <td>8690.0000</td>\n",
              "      <td>2012-01-02 00:00:00</td>\n",
              "      <td>NaN</td>\n",
              "      <td>2012.000000</td>\n",
              "      <td>7.000000</td>\n",
              "      <td>12.000000</td>\n",
              "      <td>0.000000</td>\n",
              "      <td>NaN</td>\n",
              "      <td>NaN</td>\n",
              "      <td>NaN</td>\n",
              "      <td>0.500000</td>\n",
              "      <td>0.484800</td>\n",
              "      <td>0.630000</td>\n",
              "      <td>0.194000</td>\n",
              "      <td>17.000000</td>\n",
              "      <td>115.000000</td>\n",
              "      <td>142.000000</td>\n",
              "    </tr>\n",
              "    <tr>\n",
              "      <th>75%</th>\n",
              "      <td>13034.5000</td>\n",
              "      <td>2012-07-02 00:00:00</td>\n",
              "      <td>NaN</td>\n",
              "      <td>2012.000000</td>\n",
              "      <td>10.000000</td>\n",
              "      <td>18.000000</td>\n",
              "      <td>0.000000</td>\n",
              "      <td>NaN</td>\n",
              "      <td>NaN</td>\n",
              "      <td>NaN</td>\n",
              "      <td>0.660000</td>\n",
              "      <td>0.621200</td>\n",
              "      <td>0.780000</td>\n",
              "      <td>0.253700</td>\n",
              "      <td>48.000000</td>\n",
              "      <td>220.000000</td>\n",
              "      <td>281.000000</td>\n",
              "    </tr>\n",
              "    <tr>\n",
              "      <th>max</th>\n",
              "      <td>17379.0000</td>\n",
              "      <td>2012-12-31 00:00:00</td>\n",
              "      <td>NaN</td>\n",
              "      <td>2012.000000</td>\n",
              "      <td>12.000000</td>\n",
              "      <td>23.000000</td>\n",
              "      <td>1.000000</td>\n",
              "      <td>NaN</td>\n",
              "      <td>NaN</td>\n",
              "      <td>NaN</td>\n",
              "      <td>1.000000</td>\n",
              "      <td>1.000000</td>\n",
              "      <td>1.000000</td>\n",
              "      <td>0.850700</td>\n",
              "      <td>367.000000</td>\n",
              "      <td>886.000000</td>\n",
              "      <td>977.000000</td>\n",
              "    </tr>\n",
              "    <tr>\n",
              "      <th>std</th>\n",
              "      <td>5017.0295</td>\n",
              "      <td>NaN</td>\n",
              "      <td>NaN</td>\n",
              "      <td>0.500008</td>\n",
              "      <td>3.438776</td>\n",
              "      <td>6.914405</td>\n",
              "      <td>0.167165</td>\n",
              "      <td>NaN</td>\n",
              "      <td>NaN</td>\n",
              "      <td>NaN</td>\n",
              "      <td>0.192556</td>\n",
              "      <td>0.171850</td>\n",
              "      <td>0.192930</td>\n",
              "      <td>0.122340</td>\n",
              "      <td>49.305030</td>\n",
              "      <td>151.357286</td>\n",
              "      <td>181.387599</td>\n",
              "    </tr>\n",
              "  </tbody>\n",
              "</table>\n",
              "</div>"
            ],
            "text/plain": [
              "           instant                         dteday season            yr  \\\n",
              "count   17379.0000                          17379  17379  17379.000000   \n",
              "unique         NaN                            NaN      4           NaN   \n",
              "top            NaN                            NaN   Fall           NaN   \n",
              "freq           NaN                            NaN   4496           NaN   \n",
              "mean     8690.0000  2012-01-02 04:08:34.552045568    NaN   2011.502561   \n",
              "min         1.0000            2011-01-01 00:00:00    NaN   2011.000000   \n",
              "25%      4345.5000            2011-07-04 00:00:00    NaN   2011.000000   \n",
              "50%      8690.0000            2012-01-02 00:00:00    NaN   2012.000000   \n",
              "75%     13034.5000            2012-07-02 00:00:00    NaN   2012.000000   \n",
              "max     17379.0000            2012-12-31 00:00:00    NaN   2012.000000   \n",
              "std      5017.0295                            NaN    NaN      0.500008   \n",
              "\n",
              "                mnth            hr       holiday   weekday workingday  \\\n",
              "count   17379.000000  17379.000000  17379.000000     17379      17379   \n",
              "unique           NaN           NaN           NaN         7          2   \n",
              "top              NaN           NaN           NaN  Saturday    Weekday   \n",
              "freq             NaN           NaN           NaN      2512      11865   \n",
              "mean        6.537775     11.546752      0.028770       NaN        NaN   \n",
              "min         1.000000      0.000000      0.000000       NaN        NaN   \n",
              "25%         4.000000      6.000000      0.000000       NaN        NaN   \n",
              "50%         7.000000     12.000000      0.000000       NaN        NaN   \n",
              "75%        10.000000     18.000000      0.000000       NaN        NaN   \n",
              "max        12.000000     23.000000      1.000000       NaN        NaN   \n",
              "std         3.438776      6.914405      0.167165       NaN        NaN   \n",
              "\n",
              "       weathersit          temp         atemp           hum     windspeed  \\\n",
              "count       17379  17379.000000  17379.000000  17379.000000  17379.000000   \n",
              "unique          4           NaN           NaN           NaN           NaN   \n",
              "top         Clear           NaN           NaN           NaN           NaN   \n",
              "freq        11413           NaN           NaN           NaN           NaN   \n",
              "mean          NaN      0.496987      0.475775      0.627229      0.190098   \n",
              "min           NaN      0.020000      0.000000      0.000000      0.000000   \n",
              "25%           NaN      0.340000      0.333300      0.480000      0.104500   \n",
              "50%           NaN      0.500000      0.484800      0.630000      0.194000   \n",
              "75%           NaN      0.660000      0.621200      0.780000      0.253700   \n",
              "max           NaN      1.000000      1.000000      1.000000      0.850700   \n",
              "std           NaN      0.192556      0.171850      0.192930      0.122340   \n",
              "\n",
              "              casual    registered           cnt  \n",
              "count   17379.000000  17379.000000  17379.000000  \n",
              "unique           NaN           NaN           NaN  \n",
              "top              NaN           NaN           NaN  \n",
              "freq             NaN           NaN           NaN  \n",
              "mean       35.676218    153.786869    189.463088  \n",
              "min         0.000000      0.000000      1.000000  \n",
              "25%         4.000000     34.000000     40.000000  \n",
              "50%        17.000000    115.000000    142.000000  \n",
              "75%        48.000000    220.000000    281.000000  \n",
              "max       367.000000    886.000000    977.000000  \n",
              "std        49.305030    151.357286    181.387599  "
            ]
          },
          "execution_count": 175,
          "metadata": {},
          "output_type": "execute_result"
        }
      ],
      "source": [
        "hour_df.describe(include=\"all\")"
      ]
    },
    {
      "cell_type": "markdown",
      "metadata": {},
      "source": [
        "Membuat kolom baru sebagai \"time_of_day\" berdasarkan data hour_df untuk mengetahui pola penggunaan sepeda harian spesifik di pagi, siang, sore, atau malam. Dengan kolom baru, dapat diketahui kapan puncak penyewaan sepeda terjadi."
      ]
    },
    {
      "cell_type": "code",
      "execution_count": 176,
      "metadata": {},
      "outputs": [
        {
          "name": "stdout",
          "output_type": "stream",
          "text": [
            "    hr time_of_day\n",
            "0    0       Night\n",
            "1    1       Night\n",
            "2    2       Night\n",
            "3    3       Night\n",
            "4    4       Night\n",
            "5    5       Night\n",
            "6    6     Morning\n",
            "7    7     Morning\n",
            "8    8     Morning\n",
            "9    9     Morning\n",
            "10  10     Morning\n",
            "11  11     Morning\n",
            "12  12   Afternoon\n",
            "13  13   Afternoon\n",
            "14  14   Afternoon\n",
            "15  15   Afternoon\n",
            "16  16   Afternoon\n",
            "17  17   Afternoon\n",
            "18  18     Evening\n",
            "19  19     Evening\n",
            "20  20     Evening\n",
            "21  21     Evening\n",
            "22  22     Evening\n",
            "23  23     Evening\n"
          ]
        }
      ],
      "source": [
        "# Membuat kolom baru \"time_of_day\" berdasarkan data hour_df\n",
        "def categorize_hour(hour):\n",
        "    if 0 <= hour < 6:\n",
        "        return \"Night\"\n",
        "    elif 6 <= hour < 12:\n",
        "        return \"Morning\"\n",
        "    elif 12 <= hour < 18:\n",
        "        return \"Afternoon\"\n",
        "    else:\n",
        "        return \"Evening\"\n",
        "\n",
        "hour_df[\"time_of_day\"] = hour_df[\"hr\"].apply(categorize_hour)\n",
        "print(hour_df[[\"hr\", \"time_of_day\"]].head(24))"
      ]
    },
    {
      "cell_type": "code",
      "execution_count": 177,
      "metadata": {},
      "outputs": [
        {
          "name": "stdout",
          "output_type": "stream",
          "text": [
            "              count        mean         std  min    25%    50%    75%    max\n",
            "time_of_day                                                                 \n",
            "Afternoon    4375.0  295.483886  181.656294  3.0  164.5  258.0  390.0  976.0\n",
            "Evening      4368.0  225.757555  175.218285  2.0   94.0  177.0  306.0  977.0\n",
            "Morning      4360.0  208.100688  163.972903  1.0   90.0  167.0  288.0  839.0\n",
            "Night        4276.0   24.908559   30.274492  1.0    6.0   13.0   32.0  283.0\n"
          ]
        }
      ],
      "source": [
        "# Statistik deskriptif untuk kolom \"cnt\" berdasarkan \"time_of_day\"\n",
        "time_of_day_stats = hour_df.groupby(\"time_of_day\")[\"cnt\"].describe()\n",
        "print(time_of_day_stats)"
      ]
    },
    {
      "cell_type": "markdown",
      "metadata": {},
      "source": [
        "**Insight**:\n",
        "- Berdasarkan statistik deskriptif, pola penggunaan sepeda selama 1 hari menunjukkan perbedaan signifikan antar kategori waktu. Kategori waktu afternoon mencatat rata-rata penyewaan sepeda tertinggi (295,48 unit), diikuti kategori waktu evening (225,75 unit), morning (208 unit) dan night (25 unit). Dengan demikian, kegiatan operasional dapat dioptimalkan seperti operator sepeda dapat menempatkan sepeda lebih efisien dan memastikan ketersediaan sepeda pada waktu-waktu krusial (afternoon) sehingga meningkatkan kepuasan pelanggan. Selain itu, bisa dijadikan penawaran khusus di jam-jam non puncak untuk mendorong lebih banyak penyewaan sepeda.  "
      ]
    },
    {
      "cell_type": "code",
      "execution_count": 178,
      "metadata": {},
      "outputs": [
        {
          "name": "stdout",
          "output_type": "stream",
          "text": [
            "weathersit       Clear  Heavy Rain  Light Snow  Mist + Cloudy\n",
            "hr                                                           \n",
            "0            59.161554         NaN   28.115385      47.232432\n",
            "1            34.395918        23.0   17.129630      35.541899\n",
            "2            22.817992         NaN   14.839286      25.491713\n",
            "3            11.995604         NaN    6.944444      12.452128\n",
            "4             6.413567         NaN    4.684211       6.721311\n",
            "5            20.414687         NaN   13.877551      20.141463\n",
            "6            79.165563         NaN   55.981818      74.612903\n",
            "7           218.742664         NaN  131.071429     224.733645\n",
            "8           361.359091         NaN  213.775862     391.283843\n",
            "9           226.391608         NaN  128.981481     226.848361\n",
            "10          192.470721         NaN   77.773585     159.469565\n",
            "11          234.284116         NaN   85.765957     182.678112\n",
            "12          281.975169         NaN  137.254545     225.869565\n",
            "13          283.388769         NaN  116.068966     225.855769\n",
            "14          269.464135         NaN  122.081967     208.654639\n",
            "15          275.228866         NaN  138.060606     227.814607\n",
            "16          335.745098        36.0  167.188406     299.640000\n",
            "17          500.429980         NaN  275.986842     422.904762\n",
            "18          458.440000       164.0  271.043478     390.417722\n",
            "19          336.096267         NaN  179.525424     282.025000\n",
            "20          244.869231         NaN  126.205882     204.542857\n",
            "21          186.826511         NaN   98.526316     151.816456\n",
            "22          142.601179         NaN   70.345455     116.823171\n",
            "23           93.981707         NaN   49.373134      85.171598\n"
          ]
        }
      ],
      "source": [
        "# Menghitung rata-rata penyewaan sepeda berdasarkan jam (0-23) dan kondisi cuaca\n",
        "weather_by_hour = hour_df.pivot_table(values=\"cnt\", index=\"hr\", columns=\"weathersit\", aggfunc=\"mean\")\n",
        "print(weather_by_hour)"
      ]
    },
    {
      "cell_type": "code",
      "execution_count": 179,
      "metadata": {},
      "outputs": [
        {
          "name": "stdout",
          "output_type": "stream",
          "text": [
            "weathersit\n",
            "Clear            203.194167\n",
            "Heavy Rain        74.333333\n",
            "Light Snow       105.441736\n",
            "Mist + Cloudy    177.030980\n",
            "dtype: float64\n"
          ]
        }
      ],
      "source": [
        "# Menghitung rata-rata kolom weathersit\n",
        "average_per_weathersit = weather_by_hour.mean(axis=0)\n",
        "print(average_per_weathersit)"
      ]
    },
    {
      "cell_type": "markdown",
      "metadata": {},
      "source": [
        "**Insights:**\n",
        "- Kondisi cuaca cerah yang lebih mendukung (Clear atau Mist + Cloudy) cenderung menghasilkan rata-rata penyewaan sepeda lebih tinggi dibandingkan kondisi cuaca buruk (Light Snow atau Heavy Rain) \n",
        "- Berdasarkan pivot table, kondisi cuaca yang ideal (Clear) menunjukkan nilai rata-rata peminjaman sepeda paling tinggi, terutama pada jam-jam sore (jam 16.00 - 17.00). Sementara itu, nilai rata-rata peminjaman sepeda untuk weathersit Mist + Cloudy dan Light Snow secara konsisten lebih rendah daripada weathersit Clear, menunjukkan penurunan aktivitas pada kondisi cuaca yang sedikit kurang ideal. Di sisi lain, kategori weathersit Heavy Rain banyak menampilkan nilai NaN, yang bisa diartikan bahwa data penyewaan sepeda pada kondisi cuaca ekstrem atau tidak biasa tersebut sangat jarang terjadi atau bahkan tidak ada sama sekali, sehingga memerlukan perhatian khusus jika kondisi tersebut muncul\n",
        "- Pemaparan di atas, secara implisit menjelaskan bahwa diperlukan penyesuaian jumlah sepeda dan redistribusi sepeda berdasarkan prediksi cuaca serta perencanaan strategi promosi yang tepat karena penjadwalan supply sepeda sebaiknya disesuaikan dengan jam-jam dengan permintaan tinggi pada kondisi cuaca yang mendukung. "
      ]
    },
    {
      "cell_type": "markdown",
      "metadata": {
        "id": "zsyZjqak8DC2"
      },
      "source": [
        "## Visualization & Explanatory Analysis"
      ]
    },
    {
      "cell_type": "markdown",
      "metadata": {
        "id": "HZxOiQ6n8DC2"
      },
      "source": [
        "### Pertanyaan 1: Bagaimana kondisi cuaca dapat mempengaruhi jumlah penyewaan sepeda?"
      ]
    },
    {
      "cell_type": "code",
      "execution_count": 180,
      "metadata": {},
      "outputs": [
        {
          "data": {
            "image/png": "[encoded data removed]",
            "text/plain": [
              "<Figure size 1000x600 with 1 Axes>"
            ]
          },
          "metadata": {},
          "output_type": "display_data"
        }
      ],
      "source": [
        "# Ubah pivot_table ke long format\n",
        "pivot_long = pivot_table.reset_index().melt(id_vars='weekday', \n",
        "                                             var_name='weathersit', \n",
        "                                             value_name='average_count')\n",
        "\n",
        "# Mengurutkan hari agar plot muncul dari Minggu sampai Sabtu secara berurutan\n",
        "ordered_days = ['Sunday', 'Monday', 'Tuesday', 'Wednesday', 'Thursday', 'Friday', 'Saturday']\n",
        "pivot_long['weekday'] = pd.Categorical(pivot_long['weekday'],\n",
        "                                       categories=ordered_days,\n",
        "                                       ordered=True)\n",
        "\n",
        "# Visualisasi lineplot menggunakan seaborn\n",
        "plt.figure(figsize=(10, 6))\n",
        "sns.lineplot(data=pivot_long, x='weekday', y='average_count', hue='weathersit', marker='o')\n",
        "\n",
        "plt.title('Rata-rata Penyewaan Sepeda per Hari Berdasarkan Cuaca')\n",
        "plt.xlabel('Hari')\n",
        "plt.ylabel('Jumlah Penyewaan Sepeda (cnt)')\n",
        "plt.legend(title='Cuaca')\n",
        "plt.grid(True)\n",
        "plt.tight_layout()\n",
        "plt.show()"
      ]
    },
    {
      "cell_type": "code",
      "execution_count": 181,
      "metadata": {},
      "outputs": [
        {
          "data": {
            "image/png": "[encoded data removed]",
            "text/plain": [
              "<Figure size 1000x600 with 1 Axes>"
            ]
          },
          "metadata": {},
          "output_type": "display_data"
        }
      ],
      "source": [
        "# Warna khusus untuk masing-masing kondisi cuaca\n",
        "colors = {\n",
        "    'Clear': '#1f77b4',         # Biru\n",
        "    'Mist + Cloudy': '#2ca02c', # Hijau\n",
        "    'Light Snow': '#ff7f0e',    # Oranye\n",
        "    'Heavy Rain': '#d62728'     # Merah\n",
        "}\n",
        "\n",
        "# Membuat plot line untuk setiap kondisi cuaca per jam\n",
        "plt.figure(figsize=(10, 6))  \n",
        "\n",
        "# Melakukan iterasi untuk setiap kondisi cuaca\n",
        "for column in weather_by_hour.columns:\n",
        "    plt.plot(\n",
        "        weather_by_hour.index,             \n",
        "        weather_by_hour[column],           \n",
        "        marker=\"o\",                       \n",
        "        linestyle=\"-\",                     \n",
        "        color=colors.get(column, None),    \n",
        "        label=f'Kondisi {column}'          \n",
        "    )\n",
        "\n",
        "plt.title(\"Rata-rata Jumlah Penyewaan Sepeda per Jam Berdasarkan Kondisi Cuaca\")\n",
        "plt.xlabel(\"Jam\")\n",
        "plt.ylabel(\"Rata-rata Jumlah Penyewa Sepeda (cnt)\")\n",
        "plt.legend(title=\"Kondisi Cuaca\")\n",
        "plt.grid(True)\n",
        "plt.xticks(ticks=range(0, 24, 2)) # Mengatur tampilan jam (x-axis) agar tampil tiap 2 jam\n",
        "plt.tight_layout()\n",
        "plt.show()\n"
      ]
    },
    {
      "cell_type": "markdown",
      "metadata": {},
      "source": [
        "**Insight Pertanyaan 1:**\n",
        "- Berdasarkan grafik 1, rata-rata penyewaan sepeda tertinggi secara konsisten terjadi saat kondisi cuaca cerah (Clear) dengan puncaknya di Hari Rabu sekitar 5400an penyewa. Diikuti kondisi cuaca Mist + Cloudy dengan rata-rata penyewaan sepeda yang cukup stabil di kisaran 4000-an meskipun sempat turun di bawah 4000 saat hari Rabu. Terakhir, kondisi Light Snow rata-rata penyewaan sepeda secara konsisten menurun tajam hanya sekitar 1000-2900 penyewa. Penurunan paling esktrem terjadi di Hari Minggu sekitar 1000-an.\n",
        "    - Untuk menjaga kegiatan operasional saat cuaca buruk, mungkin dapat dilakukan pengoptimalan aplikasi dengan memperbarui informasi cuaca secara real-time dan memberikan rekomendasi rute sepeda yang lebih aman. Selanjutnya jika memungkinan, bisa mengadakan asuransi perlindungan cuaca buruk bagi pelanggan setia.\n",
        "    - Pada saat cuaca cerah, ada baiknya meningkatkan jumlah sepeda untuk disewa agar kepuasan dan kesetiaan pelanggan terjaga.\n",
        "    - Secara garis besar, grafik 1 memberikan gambaran umum tren penyewaan sepeda berdasarkan kondisi cuaca menggunakan tabel day_df\n",
        "- Berdasarkan grafik 2, data hour_df menjelaskan bahwa di hari dengan kondisi cuaca cerah dan berkabut (Clear dan Mist + Cloudy) memiliki rata-rata lonjakan jumlah penyewaan sepeda yang tinggi di jam-jam tertentu seperti pada kisaran pukul 8 (pagi hari) dan pukul 17 (sore hari). Terjadinya lonjakan penyewaan sepeda pada kisaran kedua jam tersebut dimungkinkan karena adanya aktivitas berangkat ke kantor atau antar sekolah dan aktivitas pulang kerja atau sekadar rekreasi sore hari. Oleh karena itu, ketersediaan sepeda pada waktu-waktu tersebut dapat ditingkatkan sementara di luar waktu tersebut dapat digunakan sebagai jadwal perawatan atau redistribusi sepeda agar meningkatkan kepuasaan pengguna atau pelanggan"
      ]
    },
    {
      "cell_type": "markdown",
      "metadata": {},
      "source": [
        "### Pertanyaan 2: Bagaimana perbedaan penyewaan sepeda pada weekend dibandingkan weekday?"
      ]
    },
    {
      "cell_type": "code",
      "execution_count": 182,
      "metadata": {},
      "outputs": [
        {
          "data": {
            "image/png": "[encoded data removed]",
            "text/plain": [
              "<Figure size 600x500 with 1 Axes>"
            ]
          },
          "metadata": {},
          "output_type": "display_data"
        }
      ],
      "source": [
        "\"\"\"\n",
        "Bar Plot untuk melihat perbedaan rata-rata jumlah penyewaan sepeda \n",
        "\"\"\"\n",
        "# Hitung rata-rata penyewaan berdasarkan Weekend/Weekday\n",
        "avg_rent_by_workingday = day_df.groupby('workingday')['cnt'].mean().reset_index()\n",
        "\n",
        "# Buat barplot\n",
        "plt.figure(figsize=(6, 5))\n",
        "barplot = sns.barplot(\n",
        "    data=avg_rent_by_workingday,\n",
        "    x='workingday',\n",
        "    y='cnt',\n",
        "    hue='workingday',       \n",
        "    palette='Set2',\n",
        "    legend=False            \n",
        ")\n",
        "\n",
        "# Tambahkan nilai di atas setiap bar\n",
        "for index, row in avg_rent_by_workingday.iterrows():\n",
        "    barplot.text(\n",
        "        x=index,\n",
        "        y=row['cnt'] + 1,\n",
        "        s=f\"{row['cnt']:.1f}\",\n",
        "        ha='center',\n",
        "        va='bottom',\n",
        "        fontsize=10,\n",
        "        fontweight='bold'\n",
        "    )\n",
        "\n",
        "plt.title('Perbandingan Rata-rata Total Penyewaan Sepeda\\nWeekday vs Weekend')\n",
        "plt.xlabel('Jenis Hari')\n",
        "plt.ylabel('Rata-rata Jumlah Penyewa Sepeda (cnt)')\n",
        "plt.grid(axis='y', linestyle='--', alpha=0.7)\n",
        "plt.tight_layout()\n",
        "plt.show()\n"
      ]
    },
    {
      "cell_type": "code",
      "execution_count": null,
      "metadata": {},
      "outputs": [
        {
          "data": {
            "image/png": "[encoded data removed]",
            "text/plain": [
              "<Figure size 1000x600 with 1 Axes>"
            ]
          },
          "metadata": {},
          "output_type": "display_data"
        }
      ],
      "source": [
        "# Atur urutan hari \n",
        "day_order = ['Sunday', 'Monday', 'Tuesday', 'Wednesday', 'Thursday', 'Friday', 'Saturday']\n",
        "day_df['weekday'] = day_df['weekday'].astype(CategoricalDtype(categories=day_order, ordered=True))\n",
        "\n",
        "# Filter hanya kombinasi hari dan tipe hari yang valid\n",
        "valid_df = day_df[\n",
        "    ((day_df['weekday'].isin(['Monday', 'Tuesday', 'Wednesday', 'Thursday', 'Friday'])) & (day_df['workingday'] == 'Weekday')) |\n",
        "    ((day_df['weekday'].isin(['Saturday', 'Sunday'])) & (day_df['workingday'] == 'Weekend'))\n",
        "]\n",
        "\n",
        "# Hitung rata-rata penyewaan\n",
        "avg_by_day_type = valid_df.groupby(['weekday', 'workingday'], observed=True)['cnt'].mean().reset_index()\n",
        "\n",
        "# Set warna sesuai Set2\n",
        "custom_palette = {'Weekend': '#fc8d62', 'Weekday': '#66c2a5'}\n",
        "\n",
        "# Plot\n",
        "plt.figure(figsize=(10, 6))\n",
        "ax = sns.barplot(\n",
        "    data=avg_by_day_type,\n",
        "    x='weekday',\n",
        "    y='cnt',\n",
        "    hue='workingday',\n",
        "    palette=custom_palette\n",
        ")\n",
        "\n",
        "# Tambahkan label di atas bar\n",
        "for container in ax.containers:\n",
        "    ax.bar_label(container, fmt='%.0f', label_type='edge', fontsize=9)\n",
        "\n",
        "plt.title(\"Perbandingan Rata-rata Penyewaan Sepeda \\nWeekday vs Weekend dalam 1 Minggu\")\n",
        "plt.xlabel(\"Hari\")\n",
        "plt.ylabel(\"Rata-rata Penyewaan Sepeda\")\n",
        "plt.legend(title=\"Tipe Hari\")\n",
        "plt.xticks(rotation=45)\n",
        "plt.tight_layout()\n",
        "plt.grid(axis='y', linestyle='--', alpha=0.5)\n",
        "plt.show()\n"
      ]
    },
    {
      "cell_type": "code",
      "execution_count": 184,
      "metadata": {},
      "outputs": [
        {
          "data": {
            "image/png": "[encoded data removed]",
            "text/plain": [
              "<Figure size 1000x600 with 1 Axes>"
            ]
          },
          "metadata": {},
          "output_type": "display_data"
        }
      ],
      "source": [
        "# Salin data agar tidak ubah dataframe asli\n",
        "df = day_df.copy()\n",
        "\n",
        "# Hitung rata-rata jumlah penyewa berdasarkan kombinasi season dan workingday\n",
        "grouped = df.groupby(['season', 'workingday'], observed=True)['cnt'].mean().reset_index()\n",
        "\n",
        "# Buat grouped barplot\n",
        "plt.figure(figsize=(10, 6))\n",
        "barplot = sns.barplot(\n",
        "    data=grouped,\n",
        "    x='season',\n",
        "    y='cnt',\n",
        "    hue='workingday',  \n",
        "    palette='Set2'\n",
        ")\n",
        "\n",
        "# Tambahkan label di atas setiap bar\n",
        "for patch in barplot.patches:\n",
        "    height = patch.get_height()\n",
        "    barplot.annotate(\n",
        "        f\"{height:.0f}\",\n",
        "        (patch.get_x() + patch.get_width() / 2, height),\n",
        "        ha='center',\n",
        "        va='bottom',\n",
        "        fontsize=9,\n",
        "        fontweight='bold'\n",
        "    )\n",
        "\n",
        "plt.title('Perbandingan Rata-rata Penyewaan Sepeda\\nWeekday vs Weekend per Musim')\n",
        "plt.xlabel('Musim')\n",
        "plt.ylabel('Rata-rata Jumlah Penyewa Sepeda')\n",
        "plt.legend(title='Tipe Hari')\n",
        "plt.grid(axis='y', linestyle='--', alpha=0.7)\n",
        "plt.tight_layout()\n",
        "plt.show()"
      ]
    },
    {
      "cell_type": "markdown",
      "metadata": {},
      "source": [
        "**Insights Pertanyaan 2:**\n",
        "- Berdasarkan bar plot 1, secara umum, rata-rata total penyewaan sepeda pada hari kerja (weekday) sedikit lebih tinggi (4585 unit) dibandingkan dengan weekend (4330 unit)\n",
        "- Barplot 2 menggambarkan distribusi penyewaan sepeda dalam 1 minggu dengan pengelompokan hari Senin sampai Jumat sebagai Weekday dan Sabtu-Minggu sebagai weekend. Hari Kamis (Weekday) mencatat rata-rata tertinggi penyewaan sepeda sebesar 4720 unit, selisih 1 unit dengan hari Jumat yakni 4719 unit. Hari terendah rata-rata penyewaan sepeda justru tercatat pada hari Minggu (Weekend) yakni 4229 unit. Hal ini kemungkinan disebabkan oleh lokasi penyewaan sepeda relatif lebih dekat ke kawasan perkantoran daripada tempat rekreasi. Bar plot 2 ini memperkuat bar plot 1 bahwa rata-rata penyewaan sepeda saat Weekday lebih tinggi secara konsisten dibandingkan Weekend. Fenomena ini menunjukkan bahwa sepeda lebih sering digunakan untuk komuter kerja, sekolah atau persiapan Weekend (khusus hari Jumat)\n",
        "- Bar plot 3 memperlihatkan bagaimana pola penyewaan sepeda berubah antara weekday dan weekend di setiap musim. Fall menjadi rata-rata penyewaan sepeda tertinggi baik saat Weekday (5718 penyewa) maupun Weekend (5475 penyewa). Sedangkan Spring menjadi rata-rata penyewaan sepeda terendah baik saat Weekday (2781 penyewa) maupun Weekend (2257 penyewa).</br>\n",
        "Pola umum yang terjadi adalah\n",
        "    - Fall & Winter: Weekday lebih tinggi daripada Weekend\n",
        "    - Summer: Weekend lebih tinggi dari Weekday\n",
        "    - Spring: Keduanya rendah, tapi Weekday tetap dominan"
      ]
    },
    {
      "cell_type": "markdown",
      "metadata": {},
      "source": [
        "## Conclusion"
      ]
    },
    {
      "cell_type": "markdown",
      "metadata": {},
      "source": [
        "- Conclution pertanyaan 1: Kondisi cuaca memengaruhi rata-rata penyewaan sepeda pada waktu-waktu genting. Terdapat lonjakan penyewaan pada pagi hari (jam 6–9) dan sore hari (jam 16–19) saat cuaca cerah (Clear), yang mengindikasikan bahwa penyewa memanfaatkan waktu tersebut untuk perjalanan pulang-pergi ke kantor atau sekolah, serta rekreasi sore. Sebaliknya, pada kondisi cuaca buruk (Light Snow dan Heavy Rain), terutama saat Heavy Rain, tidak tampak adanya lonjakan, bahkan terjadi penurunan signifikan di jam-jam sibuk, yang menunjukkan bahwa cuaca tidak bersahabat secara langsung menghambat aktivitas penyewaan di waktu-waktu genting.\n",
        "- Conclution pertanyaan 2: Bar plot 1 dan 2 menunjukkan sedikit perbedaan antara rata-rata penyewaan sepeda untuk weekday vs weekend dengan weekday lebih tinggi daripada weekend. Selanjutnya pola penyewaan sepeda antara weekday vs weekend diperkuat dengan korelasi setiap musim. Hasilnya Weekday tetap lebih dominan daripada weekend (Fall dan Winter lebih unggul daripada Spring). "
      ]
    },
    {
      "cell_type": "markdown",
      "metadata": {
        "id": "9y4VUsmcYNZ5"
      },
      "source": [
        "## Menerapkan Analisis Lanjutan (Opsional)"
      ]
    },
    {
      "cell_type": "markdown",
      "metadata": {},
      "source": [
        "Bisa RFM analysis, geospatial analysis, clutering, dll"
      ]
    },
    {
      "cell_type": "markdown",
      "metadata": {},
      "source": [
        "#### **RFM Analysis**"
      ]
    },
    {
      "cell_type": "markdown",
      "metadata": {},
      "source": [
        "RFM analysis digunakan untuk memahami perilaku user berdasarkan 3 faktor utama:\n",
        "- Recency: kapan terakhir kali user menyewa sepeda\n",
        "- Frequency: seberapa sering user menyewa sepeda\n",
        "- Monetary: total jumlah sepeda yang disewa"
      ]
    },
    {
      "cell_type": "markdown",
      "metadata": {},
      "source": [
        "a) RFM Analysis untuk Pengguna Terdaftar"
      ]
    },
    {
      "cell_type": "code",
      "execution_count": 185,
      "metadata": {},
      "outputs": [
        {
          "name": "stdout",
          "output_type": "stream",
          "text": [
            "RFM Analysis untuk Registered Users (Pelanggan terdaftar):\n"
          ]
        },
        {
          "data": {
            "text/html": [
              "<div>\n",
              "<style scoped>\n",
              "    .dataframe tbody tr th:only-of-type {\n",
              "        vertical-align: middle;\n",
              "    }\n",
              "\n",
              "    .dataframe tbody tr th {\n",
              "        vertical-align: top;\n",
              "    }\n",
              "\n",
              "    .dataframe thead th {\n",
              "        text-align: right;\n",
              "    }\n",
              "</style>\n",
              "<table border=\"1\" class=\"dataframe\">\n",
              "  <thead>\n",
              "    <tr style=\"text-align: right;\">\n",
              "      <th></th>\n",
              "      <th>registered</th>\n",
              "      <th>Recency</th>\n",
              "      <th>Frequency</th>\n",
              "      <th>Monetary</th>\n",
              "    </tr>\n",
              "  </thead>\n",
              "  <tbody>\n",
              "    <tr>\n",
              "      <th>0</th>\n",
              "      <td>0</td>\n",
              "      <td>38</td>\n",
              "      <td>24</td>\n",
              "      <td>35</td>\n",
              "    </tr>\n",
              "    <tr>\n",
              "      <th>1</th>\n",
              "      <td>1</td>\n",
              "      <td>0</td>\n",
              "      <td>201</td>\n",
              "      <td>294</td>\n",
              "    </tr>\n",
              "    <tr>\n",
              "      <th>2</th>\n",
              "      <td>2</td>\n",
              "      <td>1</td>\n",
              "      <td>245</td>\n",
              "      <td>648</td>\n",
              "    </tr>\n",
              "    <tr>\n",
              "      <th>3</th>\n",
              "      <td>3</td>\n",
              "      <td>0</td>\n",
              "      <td>294</td>\n",
              "      <td>1154</td>\n",
              "    </tr>\n",
              "    <tr>\n",
              "      <th>4</th>\n",
              "      <td>4</td>\n",
              "      <td>3</td>\n",
              "      <td>307</td>\n",
              "      <td>1602</td>\n",
              "    </tr>\n",
              "  </tbody>\n",
              "</table>\n",
              "</div>"
            ],
            "text/plain": [
              "   registered  Recency  Frequency  Monetary\n",
              "0           0       38         24        35\n",
              "1           1        0        201       294\n",
              "2           2        1        245       648\n",
              "3           3        0        294      1154\n",
              "4           4        3        307      1602"
            ]
          },
          "execution_count": 185,
          "metadata": {},
          "output_type": "execute_result"
        }
      ],
      "source": [
        "# copy dataframe asli tanpa modifikasi\n",
        "hour_df_copy = hour_df.copy()\n",
        "\n",
        "# hitung current_date dari data\n",
        "current_date = max(hour_df_copy['dteday'])\n",
        "\n",
        "# Groupby tanpa modifikasi data asli\n",
        "rfm_df = (\n",
        "    hour_df_copy\n",
        "    .groupby('registered', as_index=False)  # Group by user ID\n",
        "    .agg(\n",
        "        Recency=('dteday', lambda x: (current_date - x.max()).days),\n",
        "        Frequency=('instant', 'count'),  # Asumsi setiap baris = 1 transaksi\n",
        "        Monetary=('cnt', 'sum')          # Total peminjaman\n",
        "    )\n",
        ")\n",
        "\n",
        "print(\"RFM Analysis untuk Registered Users (Pelanggan terdaftar):\")\n",
        "rfm_df.head()"
      ]
    },
    {
      "cell_type": "markdown",
      "metadata": {},
      "source": [
        "**Insights:**\n",
        "- Registered user ID 0 terakhir kali aktif menyewa sepeda 38 hari yang lalu dengan frekuensi penyewaan sepeda sebanyak 24 kali dan total jumlah sepeda yang disewa adalah 35 sepeda. Sedangkan registered user ID 1-4 terakhir kali aktif menyewa sepeda di kisaran 1-3 hari yang lalu dengan frekuensi penyewaan sepeda lebih dari 200 kali dan total jumlah sepeda yang disewa pun bervariasi\n",
        "- Perbedaan mencolok terlihat pada nilai Monetary ID 4 menyumbang kontribusi tertinggi (1.602 sewa), hampir 46 kali lipat dibandingkan ID 0 (35 sewa). Hal ini menunjukkan segmentasi yang ekstrem —beberapa pelanggan berkontribusi besar, sementara lainnya minim. Berdasarkan peristiwa ini strategi bisnis dapat direkomendasikan seperti memberikan reward (diskon atau prioritas stok sepeda) untuk ID 1-4 guna mempertahankan loyalitas dan program re-engagement (email/promo) untuk ID 0"
      ]
    },
    {
      "cell_type": "markdown",
      "metadata": {},
      "source": [
        "b) RFM Analysis berdasarkan waktu (per Jam)"
      ]
    },
    {
      "cell_type": "code",
      "execution_count": 186,
      "metadata": {},
      "outputs": [
        {
          "name": "stdout",
          "output_type": "stream",
          "text": [
            "\n",
            "RFM Analysis per Jam:\n"
          ]
        },
        {
          "data": {
            "text/html": [
              "<div>\n",
              "<style scoped>\n",
              "    .dataframe tbody tr th:only-of-type {\n",
              "        vertical-align: middle;\n",
              "    }\n",
              "\n",
              "    .dataframe tbody tr th {\n",
              "        vertical-align: top;\n",
              "    }\n",
              "\n",
              "    .dataframe thead th {\n",
              "        text-align: right;\n",
              "    }\n",
              "</style>\n",
              "<table border=\"1\" class=\"dataframe\">\n",
              "  <thead>\n",
              "    <tr style=\"text-align: right;\">\n",
              "      <th></th>\n",
              "      <th>hr</th>\n",
              "      <th>Recency</th>\n",
              "      <th>Frequency</th>\n",
              "      <th>Monetary</th>\n",
              "    </tr>\n",
              "  </thead>\n",
              "  <tbody>\n",
              "    <tr>\n",
              "      <th>17</th>\n",
              "      <td>17</td>\n",
              "      <td>0</td>\n",
              "      <td>730</td>\n",
              "      <td>336860</td>\n",
              "    </tr>\n",
              "    <tr>\n",
              "      <th>18</th>\n",
              "      <td>18</td>\n",
              "      <td>0</td>\n",
              "      <td>728</td>\n",
              "      <td>309772</td>\n",
              "    </tr>\n",
              "    <tr>\n",
              "      <th>8</th>\n",
              "      <td>8</td>\n",
              "      <td>0</td>\n",
              "      <td>727</td>\n",
              "      <td>261001</td>\n",
              "    </tr>\n",
              "    <tr>\n",
              "      <th>16</th>\n",
              "      <td>16</td>\n",
              "      <td>0</td>\n",
              "      <td>730</td>\n",
              "      <td>227748</td>\n",
              "    </tr>\n",
              "    <tr>\n",
              "      <th>19</th>\n",
              "      <td>19</td>\n",
              "      <td>0</td>\n",
              "      <td>728</td>\n",
              "      <td>226789</td>\n",
              "    </tr>\n",
              "  </tbody>\n",
              "</table>\n",
              "</div>"
            ],
            "text/plain": [
              "    hr  Recency  Frequency  Monetary\n",
              "17  17        0        730    336860\n",
              "18  18        0        728    309772\n",
              "8    8        0        727    261001\n",
              "16  16        0        730    227748\n",
              "19  19        0        728    226789"
            ]
          },
          "execution_count": 186,
          "metadata": {},
          "output_type": "execute_result"
        }
      ],
      "source": [
        "rfm_by_hour = (hour_df_copy.groupby('hr', as_index=False).agg(\n",
        "        Recency=('dteday', lambda x: (current_date - x.max()).days),\n",
        "        Frequency=('instant', 'count'),  # Aktivitas per jam\n",
        "        Monetary=('cnt', 'sum')          # Total peminjaman per jam\n",
        "    )\n",
        "    .sort_values('Monetary', ascending=False)\n",
        ")\n",
        "\n",
        "print(\"\\nRFM Analysis per Jam:\")\n",
        "rfm_by_hour.head()"
      ]
    },
    {
      "cell_type": "markdown",
      "metadata": {},
      "source": [
        "**Insight:**\n",
        "- Pola penggunaan sepeda sewa sangat terkonsentrasi pada jam-jam sibuk, khususnya jam 17.00-19.00 dan jam 08.00. Nilai Monetary (total jumlah sepeda yang disewa) tertinggi terjadi pada jam 17 dengan 336.860 sewa, diikuti jam 18 (309.772 sewa) dan jam 8 (261.001 sewa). Hal ini menunjukkan bahwa jam pulang kerja (17.00-19.00) menjadi puncak aktivitas penyewaan sepeda, melebihi jam berangkat kerja (08.00). Recency 0 pada semua jam menandakan bahwa jam-jam ini sepeda sewa tetap aktif digunakan hingga data terbaru, sementara Frequency yang tinggi (727-730 kali sepeda disewa) mengindikasikan konsistensi pola penggunaan dari waktu ke waktu"
      ]
    },
    {
      "cell_type": "markdown",
      "metadata": {},
      "source": [
        "c) RFM Analysis dengan Skor"
      ]
    },
    {
      "cell_type": "code",
      "execution_count": 187,
      "metadata": {},
      "outputs": [
        {
          "name": "stdout",
          "output_type": "stream",
          "text": [
            "\n",
            "RFM dengan Skor:\n"
          ]
        },
        {
          "data": {
            "text/html": [
              "<div>\n",
              "<style scoped>\n",
              "    .dataframe tbody tr th:only-of-type {\n",
              "        vertical-align: middle;\n",
              "    }\n",
              "\n",
              "    .dataframe tbody tr th {\n",
              "        vertical-align: top;\n",
              "    }\n",
              "\n",
              "    .dataframe thead th {\n",
              "        text-align: right;\n",
              "    }\n",
              "</style>\n",
              "<table border=\"1\" class=\"dataframe\">\n",
              "  <thead>\n",
              "    <tr style=\"text-align: right;\">\n",
              "      <th></th>\n",
              "      <th>registered</th>\n",
              "      <th>Recency</th>\n",
              "      <th>Frequency</th>\n",
              "      <th>Monetary</th>\n",
              "      <th>R_Score</th>\n",
              "      <th>F_Score</th>\n",
              "      <th>M_Score</th>\n",
              "      <th>RFM_Score</th>\n",
              "    </tr>\n",
              "  </thead>\n",
              "  <tbody>\n",
              "    <tr>\n",
              "      <th>0</th>\n",
              "      <td>0</td>\n",
              "      <td>38</td>\n",
              "      <td>24</td>\n",
              "      <td>35</td>\n",
              "      <td>3</td>\n",
              "      <td>4</td>\n",
              "      <td>1</td>\n",
              "      <td>341</td>\n",
              "    </tr>\n",
              "    <tr>\n",
              "      <th>1</th>\n",
              "      <td>1</td>\n",
              "      <td>0</td>\n",
              "      <td>201</td>\n",
              "      <td>294</td>\n",
              "      <td>5</td>\n",
              "      <td>5</td>\n",
              "      <td>1</td>\n",
              "      <td>551</td>\n",
              "    </tr>\n",
              "    <tr>\n",
              "      <th>2</th>\n",
              "      <td>2</td>\n",
              "      <td>1</td>\n",
              "      <td>245</td>\n",
              "      <td>648</td>\n",
              "      <td>5</td>\n",
              "      <td>5</td>\n",
              "      <td>1</td>\n",
              "      <td>551</td>\n",
              "    </tr>\n",
              "    <tr>\n",
              "      <th>3</th>\n",
              "      <td>3</td>\n",
              "      <td>0</td>\n",
              "      <td>294</td>\n",
              "      <td>1154</td>\n",
              "      <td>5</td>\n",
              "      <td>5</td>\n",
              "      <td>1</td>\n",
              "      <td>551</td>\n",
              "    </tr>\n",
              "    <tr>\n",
              "      <th>4</th>\n",
              "      <td>4</td>\n",
              "      <td>3</td>\n",
              "      <td>307</td>\n",
              "      <td>1602</td>\n",
              "      <td>5</td>\n",
              "      <td>5</td>\n",
              "      <td>2</td>\n",
              "      <td>552</td>\n",
              "    </tr>\n",
              "  </tbody>\n",
              "</table>\n",
              "</div>"
            ],
            "text/plain": [
              "   registered  Recency  Frequency  Monetary R_Score F_Score M_Score RFM_Score\n",
              "0           0       38         24        35       3       4       1       341\n",
              "1           1        0        201       294       5       5       1       551\n",
              "2           2        1        245       648       5       5       1       551\n",
              "3           3        0        294      1154       5       5       1       551\n",
              "4           4        3        307      1602       5       5       2       552"
            ]
          },
          "execution_count": 187,
          "metadata": {},
          "output_type": "execute_result"
        }
      ],
      "source": [
        "# Buat copy hasil RFM\n",
        "rfm_scored = rfm_df.copy()\n",
        "\n",
        "# Hitung skor (1-5) tanpa modifikasi data asli\n",
        "rfm_scored['R_Score'] = pd.qcut(rfm_scored['Recency'], q=5, labels=[5, 4, 3, 2, 1])\n",
        "rfm_scored['F_Score'] = pd.qcut(rfm_scored['Frequency'], q=5, labels=[1, 2, 3, 4, 5])\n",
        "rfm_scored['M_Score'] = pd.qcut(rfm_scored['Monetary'], q=5, labels=[1, 2, 3, 4, 5])\n",
        "\n",
        "# Gabungkan skor\n",
        "rfm_scored['RFM_Score'] = (\n",
        "    rfm_scored['R_Score'].astype(str) + \n",
        "    rfm_scored['F_Score'].astype(str) + \n",
        "    rfm_scored['M_Score'].astype(str)\n",
        ")\n",
        "\n",
        "print(\"\\nRFM dengan Skor:\")\n",
        "rfm_scored.head()"
      ]
    },
    {
      "cell_type": "markdown",
      "metadata": {},
      "source": [
        "**Insights:**\n",
        "- Registered users ID 1-4 menunjukkan profil yang sangat aktif dengan R_Score 5 (Recency terbaik, baru saja menyewa), F_Score 5 (Frequency tinggi, sering menyewa), dan M_Score 1-2 (Monetary rendah-menengah). Skor RFM mereka (551-552) menempatkan mereka dalam kategori \"Top Users\", terutama ID 4 dengan Monetary tertinggi (1.602 sewa). Namun, menarik bahwa meskipun Frequency tinggi, M_Score relatif rendah (1-2), yang mengindikasikan bahwa kontribusi nilai mereka per transaksi mungkin terbatas —misalnya, menyewa dalam durasi pendek atau sepeda berkapasitas kecil\n",
        "- ID 0 dengan skor 341 termasuk dalam kategori \"Berisiko atau Butuh Perhatian Lebih\". Recency 38 hari (R_Score 3) dan Monetary rendah (M_Score 1) menunjukkan pengguna yang sudah lama tidak aktif dan minim kontribusi. Perbedaan kontras antara ID 0 dan ID 1-4 menyoroti 2 kelompok registered users yang ekstrem: sebagian kecil sangat aktif, sementara lainnya hampir tidak terlibat"
      ]
    },
    {
      "cell_type": "code",
      "execution_count": 189,
      "metadata": {},
      "outputs": [],
      "source": [
        "# Menyimpan dataset secara terpisah\n",
        "day_df.to_csv(\"day_data.csv\", index=False)\n",
        "hour_df.to_csv(\"hour_data.csv\", index=False)"
      ]
    }
  ],
  "metadata": {
    "colab": {
      "provenance": []
    },
    "kernelspec": {
      "display_name": "main-ds",
      "language": "python",
      "name": "python3"
    },
    "language_info": {
      "codemirror_mode": {
        "name": "ipython",
        "version": 3
      },
      "file_extension": ".py",
      "mimetype": "text/x-python",
      "name": "python",
      "nbconvert_exporter": "python",
      "pygments_lexer": "ipython3",
      "version": "3.12.7"
    },
    "orig_nbformat": 4
  },
  "nbformat": 4,
  "nbformat_minor": 0
}
